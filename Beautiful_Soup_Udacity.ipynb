{
  "nbformat": 4,
  "nbformat_minor": 0,
  "metadata": {
    "colab": {
      "provenance": [],
      "authorship_tag": "ABX9TyOXosJMCamnTyGj91CfXnE3",
      "include_colab_link": true
    },
    "kernelspec": {
      "name": "python3",
      "display_name": "Python 3"
    },
    "language_info": {
      "name": "python"
    }
  },
  "cells": [
    {
      "cell_type": "markdown",
      "metadata": {
        "id": "view-in-github",
        "colab_type": "text"
      },
      "source": [
        "<a href=\"https://colab.research.google.com/github/ntp3105/NTP-Notes/blob/main/Beautiful_Soup_Udacity.ipynb\" target=\"_parent\"><img src=\"https://colab.research.google.com/assets/colab-badge.svg\" alt=\"Open In Colab\"/></a>"
      ]
    },
    {
      "cell_type": "code",
      "execution_count": 2,
      "metadata": {
        "colab": {
          "base_uri": "https://localhost:8080/"
        },
        "id": "X-uYrp-ld0BZ",
        "outputId": "59a1516b-881a-4c87-dacf-56bb6cf2ab98"
      },
      "outputs": [
        {
          "output_type": "stream",
          "name": "stdout",
          "text": [
            "['How to Build a Startup', 'Introduction to Python Programming', 'Intro to Machine Learning', 'Intro to Statistics', 'Intro to Artificial Intelligence', 'Product Design', 'Intro to Java: Functional Programming', 'SQL for Data Analysis', 'Intro to Data Analysis', 'Intro to JavaScript', 'Intro to TensorFlow for Deep Learning', 'Intro to Algorithms', 'Developing Android Apps with Kotlin', 'Introduction to HTML and CSS', 'Artificial Intelligence for Robotics', 'Intro to Hadoop and MapReduce', 'Version Control with Git', 'Kotlin Bootcamp for Programmers', 'Build Native Mobile Apps with Flutter', 'Responsive Web Design Fundamentals', 'Design of Computer Programs', 'Machine Learning', 'Machine Learning for Trading', 'UX Design for Mobile Developers', 'Computer Networking', 'Intro to Inferential Statistics', 'Data Analysis with R', 'Introduction to Computer Vision', 'A/B Testing', 'Introduction to Operating Systems', 'C++ For Programmers', 'Intro to Relational Databases', 'Intro to iOS App Development with Swift', 'Interactive 3D Graphics', 'Scalable Microservices with Kubernetes', 'Applied Cryptography', 'Data Wrangling with MongoDB', 'Intro to Physics', 'Statistics', 'Intro to Psychology', 'Intro to Deep Learning with PyTorch', 'Software Development Process', 'Full Stack Foundations', 'Designing RESTful APIs', 'Reinforcement Learning', 'Linear Algebra Refresher Course', 'Software Architecture & Design', 'Data Visualization and D3.js', 'Object Oriented Programming in Java', 'Firebase in a Weekend (Android)', 'JavaScript Design Patterns', 'Intro to Backend', 'JavaScript Promises', 'Software Debugging', 'HTML5 Canvas', 'Web Accessibility', 'Differential Equations in Action', 'Responsive Images', 'Swift for Beginners', 'Intro to jQuery', 'Networking for Web Developers', 'Intro to AJAX', 'Shell Workshop', 'Intro to Theoretical Computer Science', 'Intro to Information Security', 'Intro to Progressive Web Apps', 'Intro to Point & Click App Development', 'Browser Rendering Optimization', 'Introduction to Virtual Reality ', 'Database Systems Concepts & Design', 'Advanced Operating Systems', 'Machine Learning: Unsupervised Learning', 'Configuring Linux Web Servers', 'Problem Solving with Advanced Analytics', 'ES6', 'Kotlin for Android Developers', 'Data and Visual Analytics', 'Offline Web Applications', 'Authentication & Authorization: OAuth', 'High Performance Computer Architecture', 'Get Your Startup Started', 'Artificial Intelligence', 'Object-Oriented JavaScript', 'Client-Server Communication', 'Advanced Android with Kotlin', 'App Marketing', 'Rapid Prototyping', 'Writing READMEs', 'GT - Network Security', 'GT - Embedded Systems', 'Computability, Complexity & Algorithms', 'Learn Swift Programming Syntax', 'Time Series Forecasting', 'Real-Time Analytics with Apache Storm', 'Knowledge-Based AI: Cognitive Systems', 'Web Tooling & Automation', 'HTTP & Web Servers', 'High Performance Computing', 'App Monetization', 'Spark', 'How to Make an iOS App', 'Introduction to TensorFlow Lite ', 'Data Science Interview Preparation', 'Self-Driving Car Fundamentals: Featuring Apollo', 'Building High Conversion Web Forms', 'Model Building and Validation', '2D Game Development with libGDX', 'UIKit Fundamentals', 'CSE 8803 Special Topics: Big Data', 'Microsoft Power Platform', 'Human-Computer Interaction', 'Localization Essentials', 'A/B Testing for Business Analysts', 'JavaScript and the DOM', 'Introduction to Graduate Algorithms', 'Creating an Analytical Dataset', 'What is Programming?', 'Compilers: Theory and Practice', 'CS 6340: Software Analysis & Testing', 'Swift for Developers', 'Asynchronous JavaScript Requests', 'Machine Learning Interview Preparation', 'Passwordless Login Solutions for Android', 'Firebase Analytics: Android', 'GT - Refresher - Advanced OS', 'AI Fundamentals', 'AWS Machine Learning Foundations', 'Classification Models', 'Secure and Private AI ', 'Cyber-Physical Systems Security', 'iOS Persistence and Core Data', 'Segmentation and Clustering', 'Product Manager Interview Preparation Course', 'Deploying a Hadoop Cluster', 'Android Interview Preparation', 'Full-Stack Interview Preparation', 'Introduction to Machine Learning with Azure', 'Front-End Interview Preparation', 'Deploying Web Applications with Heroku', 'Mobile Design and Usability for Android', 'Eigenvectors and Eigenvalues', 'Data Structures & Algorithms in Swift', 'Firebase in a Weekend (iOS)', 'Introduction to Generative AI with Google Cloud', 'Objective-C for Swift Developers', 'Xcode Debugging', 'AutoLayout', 'AWS DeepRacer Course', 'Core ML: Machine Learning for iOS', 'Server-Side Swift', 'Managing a Remote Workforce', 'Passwordless Login Solutions for iOS', 'Dynamic Web Applications with Sinatra', 'Mobile Design and Usability for iOS', 'Engagement & Monetization | Mobile Games', 'The MVC Pattern in Ruby', 'Grand Central Dispatch (GCD)', 'Cyber-Physical Systems Design & Analysis', 'Getting Started with Google Workspace', 'Cloud Native Foundations Course', 'Mobile Design Patterns', 'Firebase Analytics: iOS', 'Continuous Integration and Deployment', 'WeChat Mini Program Development', 'Transformer Models and BERT Model with Google Cloud', 'iOS Interview Preparation', 'Introduction to Large Language Models with Google Cloud', 'LLMOps: Building Real-World Applications With Large Language Models', 'Introduction to Image Generation with Google Cloud', 'Attention Mechanism with Google Cloud', 'Introduction to Digital Project Management', 'Google Sheets', 'VR Interview Preparation', 'Generative AI Fundamentals with Google Cloud', 'Discovering Artificial Intelligence and Machine Learning', 'Create Image Captioning Models with Google Cloud', 'Encoder-Decoder Architecture with Google Cloud', 'Introduction to Gen AI Studio with Google Cloud', 'Introduction to Responsible AI with Google Cloud', 'Discovering Data Science', 'Google Docs', 'AIoT Foundations', 'Google Drive', 'Google Sheets - Advanced Topics', 'Gmail', 'Google Calendar', 'Strengthen Your LinkedIn Profile', 'Google Slides', 'Google Chat', 'Google Meet', 'Refresh Your Resume', 'Data Structures & Algorithms Interview Prep', 'Discovering Ethical AI', 'Discovering Digital Transformation', 'Oracle Autonomous Database Administration', 'Oracle Cloud Infrastructure Foundations', 'Optimize Your GitHub Profile', 'Oracle Cloud Infrastructure Operations Professional', 'Oracle Cloud Infrastructure Architect Associate', 'Oracle Cloud Infrastructure Architect Professional', 'Zero-Shot and Few-Shot Learning', 'Self-Reflection On Your Career Pathway', 'Operationalizing Cloud Security with Deepfence ThreatMapper', 'Craft Your Cover Letter', 'Threads', 'Gemini in Google Sheets', 'Innovating with Google Cloud Artificial Intelligence', 'Gemini in Gmail', 'Responsible AI: Applying AI Principles with Google Cloud', 'Introduction to Gemini for Google Workspace', 'Gemini in Google Slides', 'Gemini in Google Meet', 'Digital Transformation with Google Cloud', 'Exploring Data Transformation with Google Cloud', 'Trust and Security with Google Cloud', 'Modernize Infrastructure and Applications with Google Cloud', 'Scaling with Google Cloud Operations', 'Gemini in Google Docs']\n"
          ]
        }
      ],
      "source": [
        "import requests\n",
        "from bs4 import BeautifulSoup\n",
        "import json\n",
        "import numpy as np\n",
        "\n",
        "title_values = []\n",
        "pages = np.arange(1,11)\n",
        "# Send HTTP GET request\n",
        "\n",
        "for page in pages:\n",
        "  url = \"https://www.udacity.com/catalog/all/free/any-school/any-skill/any-difficulty/any-duration/any-type/most-popular/page-\" + str(page)\n",
        "  response = requests.get(url)\n",
        "  #print(response.status_code)\n",
        "\n",
        "  # Parse the HTML content\n",
        "  soup = BeautifulSoup(response.text, \"html.parser\")\n",
        "\n",
        "  # Find the script tag containing the JSON data\n",
        "  script_tag = soup.find(\"script\", type=\"application/json\")\n",
        "\n",
        "  # Extract the JSON data from the script tag\n",
        "  if script_tag:\n",
        "      json_data = json.loads(script_tag.string)\n",
        "      # Loop through each hit and extract the title value\n",
        "      for hit in json_data['props']['pageProps']['catalogSearchResultsWithCatalogItems']['hits']:\n",
        "          title_values.append(hit['_highlightResult']['title']['value'])\n",
        "  else:\n",
        "      print(\"Script tag not found.\")\n",
        "print(title_values)"
      ]
    }
  ]
}