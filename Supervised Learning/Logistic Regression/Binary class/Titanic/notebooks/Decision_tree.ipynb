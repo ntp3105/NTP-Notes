{
 "cells": [
  {
   "cell_type": "markdown",
   "id": "979078d3-50b5-40fc-b6e5-7ffdc963e2fa",
   "metadata": {},
   "source": [
    "# Fitting ML model"
   ]
  },
  {
   "cell_type": "code",
   "execution_count": 69,
   "id": "67ec22d4-fdb3-4d55-b5a9-2d94b301eb2e",
   "metadata": {},
   "outputs": [],
   "source": [
    "import numpy as np\n",
    "import pandas as pd\n",
    "import seaborn as sns\n",
    "from category_encoders import OneHotEncoder\n",
    "from sklearn.pipeline import Pipeline, make_pipeline\n",
    "from sklearn.compose import ColumnTransformer\n",
    "from sklearn.preprocessing import StandardScaler\n",
    "\n",
    "from sklearn.model_selection import train_test_split, StratifiedKFold, GridSearchCV\n",
    "from sklearn.linear_model import LogisticRegression\n",
    "from sklearn.tree import DecisionTreeClassifier\n",
    "from sklearn.metrics import accuracy_score"
   ]
  },
  {
   "cell_type": "code",
   "execution_count": 94,
   "id": "176e1e0f-af8d-4564-8edb-bcda28fec260",
   "metadata": {},
   "outputs": [],
   "source": [
    "from sklearn.svm import SVC\n",
    "from sklearn.ensemble import RandomForestClassifier, VotingClassifier\n",
    "from sklearn.neighbors import KNeighborsClassifier\n",
    "#from sklearn.tree import DecisionTreeClassifier"
   ]
  },
  {
   "cell_type": "code",
   "execution_count": 70,
   "id": "88f55dc7-a622-4dd2-8b91-244a968f7a9e",
   "metadata": {},
   "outputs": [],
   "source": [
    "df_train = pd.read_csv('../data/wrangled/train_wrangled.csv',)\n",
    "df_test = pd.read_csv('../data/wrangled/test_wrangled.csv',)"
   ]
  },
  {
   "cell_type": "code",
   "execution_count": 71,
   "id": "6ad6f100-e8d6-4452-a376-c5f37b98d982",
   "metadata": {},
   "outputs": [
    {
     "data": {
      "text/html": [
       "<div>\n",
       "<style scoped>\n",
       "    .dataframe tbody tr th:only-of-type {\n",
       "        vertical-align: middle;\n",
       "    }\n",
       "\n",
       "    .dataframe tbody tr th {\n",
       "        vertical-align: top;\n",
       "    }\n",
       "\n",
       "    .dataframe thead th {\n",
       "        text-align: right;\n",
       "    }\n",
       "</style>\n",
       "<table border=\"1\" class=\"dataframe\">\n",
       "  <thead>\n",
       "    <tr style=\"text-align: right;\">\n",
       "      <th></th>\n",
       "      <th>Survived</th>\n",
       "      <th>Pclass</th>\n",
       "      <th>Sex</th>\n",
       "      <th>Age</th>\n",
       "      <th>SibSp</th>\n",
       "      <th>Parch</th>\n",
       "      <th>Fare</th>\n",
       "      <th>Embarked</th>\n",
       "    </tr>\n",
       "  </thead>\n",
       "  <tbody>\n",
       "  </tbody>\n",
       "</table>\n",
       "</div>"
      ],
      "text/plain": [
       "Empty DataFrame\n",
       "Columns: [Survived, Pclass, Sex, Age, SibSp, Parch, Fare, Embarked]\n",
       "Index: []"
      ]
     },
     "execution_count": 71,
     "metadata": {},
     "output_type": "execute_result"
    }
   ],
   "source": [
    "df_train.head(0)"
   ]
  },
  {
   "cell_type": "code",
   "execution_count": 72,
   "id": "19832365-f00f-42b1-ba71-7c776b3ea268",
   "metadata": {},
   "outputs": [
    {
     "data": {
      "text/html": [
       "<div>\n",
       "<style scoped>\n",
       "    .dataframe tbody tr th:only-of-type {\n",
       "        vertical-align: middle;\n",
       "    }\n",
       "\n",
       "    .dataframe tbody tr th {\n",
       "        vertical-align: top;\n",
       "    }\n",
       "\n",
       "    .dataframe thead th {\n",
       "        text-align: right;\n",
       "    }\n",
       "</style>\n",
       "<table border=\"1\" class=\"dataframe\">\n",
       "  <thead>\n",
       "    <tr style=\"text-align: right;\">\n",
       "      <th></th>\n",
       "      <th>Pclass</th>\n",
       "      <th>Sex</th>\n",
       "      <th>Age</th>\n",
       "      <th>SibSp</th>\n",
       "      <th>Parch</th>\n",
       "      <th>Fare</th>\n",
       "      <th>Embarked</th>\n",
       "      <th>PassengerId</th>\n",
       "    </tr>\n",
       "  </thead>\n",
       "  <tbody>\n",
       "  </tbody>\n",
       "</table>\n",
       "</div>"
      ],
      "text/plain": [
       "Empty DataFrame\n",
       "Columns: [Pclass, Sex, Age, SibSp, Parch, Fare, Embarked, PassengerId]\n",
       "Index: []"
      ]
     },
     "execution_count": 72,
     "metadata": {},
     "output_type": "execute_result"
    }
   ],
   "source": [
    "df_test.head(0)"
   ]
  },
  {
   "cell_type": "code",
   "execution_count": 75,
   "id": "edf75e6d-bc77-4b18-ae8b-7fb65cb914c0",
   "metadata": {},
   "outputs": [],
   "source": [
    "PassengerId = df_test[\"PassengerId\"]\n",
    "df_test.drop(columns = ['PassengerId'], inplace=True)"
   ]
  },
  {
   "cell_type": "code",
   "execution_count": 76,
   "id": "dbdf60c9-7327-4c48-9fdc-37ffde2a7067",
   "metadata": {},
   "outputs": [],
   "source": [
    "assert df_train.isnull().sum().max() == 0"
   ]
  },
  {
   "cell_type": "code",
   "execution_count": 77,
   "id": "0bcbc0cb-fdd5-4628-bf52-283c500eb028",
   "metadata": {},
   "outputs": [],
   "source": [
    "assert df_test.isnull().sum().max() == 0"
   ]
  },
  {
   "cell_type": "markdown",
   "id": "3ec7b7c0-8048-43b1-bda5-6a81879e3bd7",
   "metadata": {},
   "source": [
    "## Train - Test Split"
   ]
  },
  {
   "cell_type": "code",
   "execution_count": 78,
   "id": "cc0a6366-58b9-42e7-b71c-5241e489c20d",
   "metadata": {},
   "outputs": [
    {
     "name": "stdout",
     "output_type": "stream",
     "text": [
      "X_train 589\n",
      "X_test 291\n",
      "y_train 589\n",
      "y_test 291\n"
     ]
    }
   ],
   "source": [
    "#train = df_train[:df_train_len]\n",
    "X_train = df_train.drop(labels = \"Survived\", axis = 1)\n",
    "y_train = df_train[\"Survived\"]\n",
    "X_train, X_test, y_train, y_test = train_test_split(X_train, y_train, test_size = 0.33, random_state = 42)\n",
    "print(\"X_train\",len(X_train))\n",
    "print(\"X_test\",len(X_test))\n",
    "print(\"y_train\",len(y_train))\n",
    "print(\"y_test\",len(y_test))"
   ]
  },
  {
   "cell_type": "code",
   "execution_count": 79,
   "id": "ef9a781e-9ad9-46bc-87f3-8dd51696892f",
   "metadata": {},
   "outputs": [
    {
     "name": "stdout",
     "output_type": "stream",
     "text": [
      "Baseline Accuracy: 0.61\n"
     ]
    }
   ],
   "source": [
    "acc_baseline = df_train[\"Survived\"].value_counts(normalize = True).max()\n",
    "print(\"Baseline Accuracy:\", round(acc_baseline, 2))"
   ]
  },
  {
   "cell_type": "markdown",
   "id": "8298d734-ac56-473c-b1f3-2df4d2f2b90e",
   "metadata": {},
   "source": [
    "# Simple Logistic Regression"
   ]
  },
  {
   "cell_type": "code",
   "execution_count": 80,
   "id": "fee453d4-ca1f-49cd-8b76-7a54c97eedd9",
   "metadata": {},
   "outputs": [
    {
     "name": "stdout",
     "output_type": "stream",
     "text": [
      "Training Accuracy: % 80.31\n",
      "Testing Accuracy: % 80.76\n"
     ]
    }
   ],
   "source": [
    "# Build model\n",
    "logreg = make_pipeline(\n",
    "        OneHotEncoder(use_cat_names = True),\n",
    "        LogisticRegression(max_iter = 10000)\n",
    ")\n",
    "# Fit model to training data\n",
    "logreg.fit(X_train, y_train)\n",
    "acc_log_train = round(logreg.score(X_train, y_train)*100,2) \n",
    "acc_log_test = round(logreg.score(X_test,y_test)*100,2)\n",
    "print(\"Training Accuracy: % {}\".format(acc_log_train))\n",
    "print(\"Testing Accuracy: % {}\".format(acc_log_test))"
   ]
  },
  {
   "cell_type": "code",
   "execution_count": 81,
   "id": "09ecc549-2eca-4c75-a41f-03bee28a672c",
   "metadata": {},
   "outputs": [],
   "source": [
    "df_train[\"Sex\"] = df_train[\"Sex\"].astype(\"category\")\n",
    "df_train[\"Pclass\"] = df_train[\"Pclass\"].astype(\"category\")\n",
    "df_train[\"Embarked\"] = df_train[\"Embarked\"].astype(\"category\")\n",
    "#df_train[\"Survived\"] = df_train[\"Survived\"].astype(\"category\")"
   ]
  },
  {
   "cell_type": "code",
   "execution_count": 82,
   "id": "3433395e-b8d3-458f-899c-55bb8178777b",
   "metadata": {},
   "outputs": [
    {
     "name": "stdout",
     "output_type": "stream",
     "text": [
      "<class 'pandas.core.frame.DataFrame'>\n",
      "RangeIndex: 880 entries, 0 to 879\n",
      "Data columns (total 8 columns):\n",
      " #   Column    Non-Null Count  Dtype   \n",
      "---  ------    --------------  -----   \n",
      " 0   Survived  880 non-null    float64 \n",
      " 1   Pclass    880 non-null    category\n",
      " 2   Sex       880 non-null    category\n",
      " 3   Age       880 non-null    float64 \n",
      " 4   SibSp     880 non-null    int64   \n",
      " 5   Parch     880 non-null    int64   \n",
      " 6   Fare      880 non-null    float64 \n",
      " 7   Embarked  880 non-null    category\n",
      "dtypes: category(3), float64(3), int64(2)\n",
      "memory usage: 37.5 KB\n"
     ]
    }
   ],
   "source": [
    "df_train.info()"
   ]
  },
  {
   "cell_type": "code",
   "execution_count": 83,
   "id": "4d52b040-781d-46cb-bcac-6b4e7b50fcbf",
   "metadata": {},
   "outputs": [
    {
     "data": {
      "text/plain": [
       "Index(['Age', 'SibSp', 'Parch', 'Fare'], dtype='object')"
      ]
     },
     "execution_count": 83,
     "metadata": {},
     "output_type": "execute_result"
    }
   ],
   "source": [
    "numerical_columns = df_train.select_dtypes(include=['int', 'float']).columns\n",
    "numerical_columns=numerical_columns.drop('Survived')\n",
    "numerical_columns"
   ]
  },
  {
   "cell_type": "code",
   "execution_count": 84,
   "id": "2e391347-2415-4d3f-9f7d-ac53b1a1fb12",
   "metadata": {},
   "outputs": [
    {
     "data": {
      "text/plain": [
       "Index(['Pclass', 'Sex', 'Embarked'], dtype='object')"
      ]
     },
     "execution_count": 84,
     "metadata": {},
     "output_type": "execute_result"
    }
   ],
   "source": [
    "categorical_columns = df_train.select_dtypes(include=['category']).columns\n",
    "categorical_columns"
   ]
  },
  {
   "cell_type": "code",
   "execution_count": 85,
   "id": "43711e4c-d442-404d-b106-ad98f3bb7b2f",
   "metadata": {},
   "outputs": [],
   "source": [
    "assert len(numerical_columns) + len(categorical_columns) == len(df_train.columns) - 1"
   ]
  },
  {
   "cell_type": "markdown",
   "id": "0be2c2ba-a6be-4a26-bd46-35cadbe19a4f",
   "metadata": {},
   "source": [
    "## Different ML models for Classification dataset \n",
    "\n",
    "We will compare 5 ml classifier and evaluate mean accuracy of each of them by stratified cross validation.\n",
    "* Logistic Regression\n",
    "* Decision Tree\n",
    "* SVM\n",
    "* Naive Bayes classifier\n",
    "* Random Forest\n",
    "* KNN\n",
    "* AdaBoost.RT\n",
    "* Gradient Boosting\n",
    "* LightBGM\n",
    "* Neural models"
   ]
  },
  {
   "cell_type": "markdown",
   "id": "406ca3ea-a857-4aa5-8433-a0b95b8006e2",
   "metadata": {},
   "source": [
    "LightGBM (Light Gradient Boosting Machine) is a powerful and efficient gradient boosting algorithm widely used in machine learning for various tasks, particularly those involving tabular data. It's known for its speed, memory efficiency, and high accuracy, making it a popular choice for both research and production environments.\n",
    "\n",
    "Here's a breakdown of LightGBM's key characteristics:\n",
    "\n",
    "__Core Principle__: Like other boosting algorithms, LightGBM combines multiple weak models (e.g., decision trees) into a stronger ensemble model. Each model learns from the errors of the previous one, gradually improving overall performance.\\\n",
    "    It utilizes a gradient descent approach to minimize the loss function, aiming to reduce the difference between predictions and actual values.\n",
    "\n",
    "__Strengths__:\n",
    "\n",
    "1) __Speed__: LightGBM is significantly faster than many other gradient boosting algorithms, including XGBoost. This is achieved through several optimizations, like Gradient-based one-side sampling (GOSS): Only samples data points with larger gradients (errors) in each iteration, focusing on correcting significant mistakes.\\\n",
    "2) __Efficient feature splitting__: Uses efficient algorithms for finding optimal split points in decision trees.\n",
    "3) __Parallelization across CPUs and GPUs__: Can leverage multi-core processors and GPUs for faster training.\n",
    "4) __Memory Efficiency__: LightGBM consumes less memory compared to other algorithms, making it suitable for large datasets. This is achieved by:\n",
    "5) __Feature importance-based splitting__: Focusing on relevant features instead of processing all features during splitting.\n",
    "6) __Histograms for categorical features__: Represents categorical features efficiently using histograms.\n",
    "7) __High Accuracy__: LightGBM often achieves state-of-the-art performance on various machine learning tasks, including classification and regression.\n",
    "\n",
    "__Applications__:\n",
    "\n",
    "1) __Classification__: Fraud detection, spam filtering, risk assessment, credit scoring.\n",
    "2) __Regression__: Revenue prediction, customer lifetime value (CLTV) prediction, anomaly detection.\n",
    "3) __Ranking__: Search result ranking, recommendation systems.\n",
    "\n",
    "__Additional Notes__:\n",
    "\n",
    "* LightGBM offers support for various data formats, including CSV, LibSVM, and dense/sparse matrices.\n",
    "* It provides flexibility in hyperparameter tuning to optimize performance for different problems.\n",
    "* While LightGBM is often praised for its speed, memory efficiency, and accuracy, it's crucial to evaluate different algorithms based on your specific dataset and task characteristics.\n"
   ]
  },
  {
   "cell_type": "markdown",
   "id": "7e4792f0-2884-49a0-a0ad-420eb303d1e2",
   "metadata": {},
   "source": [
    "## Decision Tree & Hyperparameters"
   ]
  },
  {
   "cell_type": "code",
   "execution_count": 86,
   "id": "2dcdc418-2b43-402d-8c69-211202cb1d96",
   "metadata": {},
   "outputs": [],
   "source": [
    "cv_result = []\n",
    "best_estimators = []\n",
    "decision_tree_hyperparameters = {\n",
    "    \"classifier__max_depth\": range(1,20,2),  # List of possible values for maximum depth\n",
    "    \"classifier__min_samples_split\": range(10,500,20),  # List of possible values for minimum samples to split\n",
    "    \"classifier__criterion\": [\"gini\", \"entropy\"]  # List of possible splitting criteria (gini or entropy)\n",
    "}"
   ]
  },
  {
   "cell_type": "code",
   "execution_count": 87,
   "id": "496edd95-6d34-40ba-855e-a84f76805100",
   "metadata": {},
   "outputs": [],
   "source": [
    "# Define preprocessing steps\n",
    "preprocessor = ColumnTransformer(\n",
    "    transformers=[\n",
    "        ('num', StandardScaler(), numerical_columns),\n",
    "        ('cat', OneHotEncoder(), categorical_columns)\n",
    "    ],\n",
    "    remainder='passthrough'\n",
    ")"
   ]
  },
  {
   "cell_type": "code",
   "execution_count": 88,
   "id": "559199b4-9cf3-41e3-8ad2-3067aeea4b0a",
   "metadata": {},
   "outputs": [],
   "source": [
    "# Create pipeline with preprocessing and classifier\n",
    "pipeline = Pipeline(steps=[\n",
    "    ('preprocessor', preprocessor),\n",
    "    ('classifier', DecisionTreeClassifier(random_state=42))  # Classifier without specifying criterion\n",
    "])"
   ]
  },
  {
   "cell_type": "code",
   "execution_count": 89,
   "id": "36ae8540-a49e-449f-b9bd-cf2ff200503b",
   "metadata": {},
   "outputs": [
    {
     "name": "stdout",
     "output_type": "stream",
     "text": [
      "Fitting 10 folds for each of 500 candidates, totalling 5000 fits\n",
      "Best hyperparameters: {'classifier__criterion': 'gini', 'classifier__max_depth': 3, 'classifier__min_samples_split': 10}\n"
     ]
    }
   ],
   "source": [
    "# Create grid search object\n",
    "grid_search = GridSearchCV(pipeline, param_grid=decision_tree_hyperparameters, cv=StratifiedKFold(n_splits = 10), scoring='accuracy', n_jobs=-1, verbose = 1)\n",
    "\n",
    "# Fit the grid search to the data\n",
    "grid_search.fit(X_train, y_train)\n",
    "\n",
    "# Get best parameters\n",
    "best_params = grid_search.best_params_\n",
    "print(\"Best hyperparameters:\", best_params)\n",
    "\n",
    "cv_result.append(grid_search.best_score_)\n",
    "best_estimators.append(grid_search.best_estimator_)"
   ]
  },
  {
   "cell_type": "code",
   "execution_count": 90,
   "id": "a04620c8-7abf-4ff3-a7c2-aec25728eb64",
   "metadata": {},
   "outputs": [
    {
     "data": {
      "text/plain": [
       "[0.8167153711279953]"
      ]
     },
     "execution_count": 90,
     "metadata": {},
     "output_type": "execute_result"
    }
   ],
   "source": [
    "cv_result"
   ]
  },
  {
   "cell_type": "code",
   "execution_count": 92,
   "id": "be1c3ace-a461-49e7-92d4-ca29cc68cdcf",
   "metadata": {},
   "outputs": [
    {
     "name": "stdout",
     "output_type": "stream",
     "text": [
      "Your submission was successfully saved!\n"
     ]
    }
   ],
   "source": [
    "predictions = grid_search.best_estimator_.predict(df_test)\n",
    "output = pd.DataFrame({'PassengerId':PassengerId , 'Survived': predictions})\n",
    "output.to_csv('submission.csv', index=False)\n",
    "print(\"Your submission was successfully saved!\")"
   ]
  },
  {
   "cell_type": "code",
   "execution_count": null,
   "id": "dd547dea-fa53-4d37-ae92-fdce37e58506",
   "metadata": {},
   "outputs": [],
   "source": [
    "output = pd.Series(grid_search.best_estimator_.predict(test), name = \"Survived\").astype(int)\n",
    "results = pd.concat([passenger_Id, output],axis = 1)\n",
    "results.to_csv(\"titanic.csv\", index = False)"
   ]
  },
  {
   "cell_type": "markdown",
   "id": "7e02d2ca-d6a2-4f36-a646-54193f70e3f5",
   "metadata": {},
   "source": [
    "# Voting classifier"
   ]
  },
  {
   "cell_type": "code",
   "execution_count": 95,
   "id": "2cf7485a-11ce-4a30-8047-76ef6f1b1f19",
   "metadata": {},
   "outputs": [],
   "source": [
    "random_state = 42\n",
    "classifier = [DecisionTreeClassifier(random_state = random_state),\n",
    "             SVC(random_state = random_state),\n",
    "             RandomForestClassifier(random_state = random_state),\n",
    "             LogisticRegression(random_state = random_state),\n",
    "             KNeighborsClassifier()]\n",
    "\n",
    "dt_param_grid = {\"min_samples_split\" : range(10,500,20),\n",
    "                \"max_depth\": range(1,20,2)}\n",
    "\n",
    "svc_param_grid = {\"kernel\" : [\"rbf\"],\n",
    "                 \"gamma\": [0.001, 0.01, 0.1, 1],\n",
    "                 \"C\": [1,10,50,100,200,300,1000]}\n",
    "\n",
    "rf_param_grid = {\"max_features\": [1,3,10],\n",
    "                \"min_samples_split\":[2,3,10],\n",
    "                \"min_samples_leaf\":[1,3,10],\n",
    "                \"bootstrap\":[False],\n",
    "                \"n_estimators\":[100,300],\n",
    "                \"criterion\":[\"gini\"]}\n",
    "\n",
    "logreg_param_grid = {\"C\":np.logspace(-3,3,7),\n",
    "                    \"penalty\": [\"l1\",\"l2\"]}\n",
    "\n",
    "knn_param_grid = {\"n_neighbors\": np.linspace(1,19,10, dtype = int).tolist(),\n",
    "                 \"weights\": [\"uniform\",\"distance\"],\n",
    "                 \"metric\":[\"euclidean\",\"manhattan\"]}\n",
    "classifier_param = [dt_param_grid,\n",
    "                   svc_param_grid,\n",
    "                   rf_param_grid,\n",
    "                   logreg_param_grid,\n",
    "                   knn_param_grid]"
   ]
  },
  {
   "cell_type": "code",
   "execution_count": 97,
   "id": "b4565bf4-1bcd-4015-85b2-800266905c51",
   "metadata": {},
   "outputs": [
    {
     "data": {
      "text/html": [
       "<div>\n",
       "<style scoped>\n",
       "    .dataframe tbody tr th:only-of-type {\n",
       "        vertical-align: middle;\n",
       "    }\n",
       "\n",
       "    .dataframe tbody tr th {\n",
       "        vertical-align: top;\n",
       "    }\n",
       "\n",
       "    .dataframe thead th {\n",
       "        text-align: right;\n",
       "    }\n",
       "</style>\n",
       "<table border=\"1\" class=\"dataframe\">\n",
       "  <thead>\n",
       "    <tr style=\"text-align: right;\">\n",
       "      <th></th>\n",
       "      <th>Survived</th>\n",
       "      <th>Age</th>\n",
       "      <th>SibSp</th>\n",
       "      <th>Parch</th>\n",
       "      <th>Fare</th>\n",
       "      <th>Pclass_1</th>\n",
       "      <th>Pclass_2</th>\n",
       "      <th>Pclass_3</th>\n",
       "      <th>Sex_female</th>\n",
       "      <th>Sex_male</th>\n",
       "      <th>Embarked_C</th>\n",
       "      <th>Embarked_Q</th>\n",
       "      <th>Embarked_S</th>\n",
       "    </tr>\n",
       "  </thead>\n",
       "  <tbody>\n",
       "    <tr>\n",
       "      <th>0</th>\n",
       "      <td>0.0</td>\n",
       "      <td>22.0</td>\n",
       "      <td>1</td>\n",
       "      <td>0</td>\n",
       "      <td>7.2500</td>\n",
       "      <td>False</td>\n",
       "      <td>False</td>\n",
       "      <td>True</td>\n",
       "      <td>False</td>\n",
       "      <td>True</td>\n",
       "      <td>False</td>\n",
       "      <td>False</td>\n",
       "      <td>True</td>\n",
       "    </tr>\n",
       "    <tr>\n",
       "      <th>1</th>\n",
       "      <td>1.0</td>\n",
       "      <td>38.0</td>\n",
       "      <td>1</td>\n",
       "      <td>0</td>\n",
       "      <td>71.2833</td>\n",
       "      <td>True</td>\n",
       "      <td>False</td>\n",
       "      <td>False</td>\n",
       "      <td>True</td>\n",
       "      <td>False</td>\n",
       "      <td>True</td>\n",
       "      <td>False</td>\n",
       "      <td>False</td>\n",
       "    </tr>\n",
       "    <tr>\n",
       "      <th>2</th>\n",
       "      <td>1.0</td>\n",
       "      <td>26.0</td>\n",
       "      <td>0</td>\n",
       "      <td>0</td>\n",
       "      <td>7.9250</td>\n",
       "      <td>False</td>\n",
       "      <td>False</td>\n",
       "      <td>True</td>\n",
       "      <td>True</td>\n",
       "      <td>False</td>\n",
       "      <td>False</td>\n",
       "      <td>False</td>\n",
       "      <td>True</td>\n",
       "    </tr>\n",
       "    <tr>\n",
       "      <th>3</th>\n",
       "      <td>1.0</td>\n",
       "      <td>35.0</td>\n",
       "      <td>1</td>\n",
       "      <td>0</td>\n",
       "      <td>53.1000</td>\n",
       "      <td>True</td>\n",
       "      <td>False</td>\n",
       "      <td>False</td>\n",
       "      <td>True</td>\n",
       "      <td>False</td>\n",
       "      <td>False</td>\n",
       "      <td>False</td>\n",
       "      <td>True</td>\n",
       "    </tr>\n",
       "    <tr>\n",
       "      <th>4</th>\n",
       "      <td>0.0</td>\n",
       "      <td>35.0</td>\n",
       "      <td>0</td>\n",
       "      <td>0</td>\n",
       "      <td>8.0500</td>\n",
       "      <td>False</td>\n",
       "      <td>False</td>\n",
       "      <td>True</td>\n",
       "      <td>False</td>\n",
       "      <td>True</td>\n",
       "      <td>False</td>\n",
       "      <td>False</td>\n",
       "      <td>True</td>\n",
       "    </tr>\n",
       "  </tbody>\n",
       "</table>\n",
       "</div>"
      ],
      "text/plain": [
       "   Survived   Age  SibSp  Parch     Fare  Pclass_1  Pclass_2  Pclass_3  \\\n",
       "0       0.0  22.0      1      0   7.2500     False     False      True   \n",
       "1       1.0  38.0      1      0  71.2833      True     False     False   \n",
       "2       1.0  26.0      0      0   7.9250     False     False      True   \n",
       "3       1.0  35.0      1      0  53.1000      True     False     False   \n",
       "4       0.0  35.0      0      0   8.0500     False     False      True   \n",
       "\n",
       "   Sex_female  Sex_male  Embarked_C  Embarked_Q  Embarked_S  \n",
       "0       False      True       False       False        True  \n",
       "1        True     False        True       False       False  \n",
       "2        True     False       False       False        True  \n",
       "3        True     False       False       False        True  \n",
       "4       False      True       False       False        True  "
      ]
     },
     "execution_count": 97,
     "metadata": {},
     "output_type": "execute_result"
    }
   ],
   "source": [
    "train_df_vc = df_train.copy()\n",
    "train_df_vc = pd.get_dummies(train_df_vc,columns=categorical_columns)\n",
    "train_df_vc.head()"
   ]
  },
  {
   "cell_type": "code",
   "execution_count": 99,
   "id": "e19375a3-9e62-4562-9617-baefa39a1617",
   "metadata": {},
   "outputs": [
    {
     "name": "stdout",
     "output_type": "stream",
     "text": [
      "X_train 589\n",
      "X_test 291\n",
      "y_train 589\n",
      "y_test 291\n"
     ]
    }
   ],
   "source": [
    "#train = df_train[:df_train_len]\n",
    "X_train_vc = train_df_vc.drop(labels = \"Survived\", axis = 1)\n",
    "y_train_vc = train_df_vc[\"Survived\"]\n",
    "X_train_vc, X_test_vc, y_train_vc, y_test_vc = train_test_split(X_train_vc, y_train_vc, test_size = 0.33, random_state = 42)\n",
    "print(\"X_train\",len(X_train_vc))\n",
    "print(\"X_test\",len(X_test_vc))\n",
    "print(\"y_train\",len(y_train_vc))\n",
    "print(\"y_test\",len(y_test_vc))"
   ]
  },
  {
   "cell_type": "code",
   "execution_count": 103,
   "id": "bdfa0548-74de-49e0-bb78-2c9e026032a6",
   "metadata": {},
   "outputs": [
    {
     "name": "stdout",
     "output_type": "stream",
     "text": [
      "Fitting 10 folds for each of 250 candidates, totalling 2500 fits\n",
      "[DecisionTreeClassifier(random_state=42), SVC(random_state=42), RandomForestClassifier(random_state=42), LogisticRegression(random_state=42), KNeighborsClassifier()] is performed\n",
      "0.8150204558737582\n",
      "Fitting 10 folds for each of 28 candidates, totalling 280 fits\n",
      "[DecisionTreeClassifier(random_state=42), SVC(random_state=42), RandomForestClassifier(random_state=42), LogisticRegression(random_state=42), KNeighborsClassifier()] is performed\n",
      "0.8048509643483343\n",
      "Fitting 10 folds for each of 54 candidates, totalling 540 fits\n",
      "[DecisionTreeClassifier(random_state=42), SVC(random_state=42), RandomForestClassifier(random_state=42), LogisticRegression(random_state=42), KNeighborsClassifier()] is performed\n",
      "0.8353886616014027\n",
      "Fitting 10 folds for each of 14 candidates, totalling 140 fits\n"
     ]
    },
    {
     "name": "stderr",
     "output_type": "stream",
     "text": [
      "C:\\Users\\Nithish P T\\AppData\\Local\\Packages\\PythonSoftwareFoundation.Python.3.12_qbz5n2kfra8p0\\LocalCache\\local-packages\\Python312\\site-packages\\sklearn\\model_selection\\_validation.py:547: FitFailedWarning: \n",
      "70 fits failed out of a total of 140.\n",
      "The score on these train-test partitions for these parameters will be set to nan.\n",
      "If these failures are not expected, you can try to debug them by setting error_score='raise'.\n",
      "\n",
      "Below are more details about the failures:\n",
      "--------------------------------------------------------------------------------\n",
      "70 fits failed with the following error:\n",
      "Traceback (most recent call last):\n",
      "  File \"C:\\Users\\Nithish P T\\AppData\\Local\\Packages\\PythonSoftwareFoundation.Python.3.12_qbz5n2kfra8p0\\LocalCache\\local-packages\\Python312\\site-packages\\sklearn\\model_selection\\_validation.py\", line 895, in _fit_and_score\n",
      "    estimator.fit(X_train, y_train, **fit_params)\n",
      "  File \"C:\\Users\\Nithish P T\\AppData\\Local\\Packages\\PythonSoftwareFoundation.Python.3.12_qbz5n2kfra8p0\\LocalCache\\local-packages\\Python312\\site-packages\\sklearn\\base.py\", line 1474, in wrapper\n",
      "    return fit_method(estimator, *args, **kwargs)\n",
      "           ^^^^^^^^^^^^^^^^^^^^^^^^^^^^^^^^^^^^^^\n",
      "  File \"C:\\Users\\Nithish P T\\AppData\\Local\\Packages\\PythonSoftwareFoundation.Python.3.12_qbz5n2kfra8p0\\LocalCache\\local-packages\\Python312\\site-packages\\sklearn\\linear_model\\_logistic.py\", line 1172, in fit\n",
      "    solver = _check_solver(self.solver, self.penalty, self.dual)\n",
      "             ^^^^^^^^^^^^^^^^^^^^^^^^^^^^^^^^^^^^^^^^^^^^^^^^^^^\n",
      "  File \"C:\\Users\\Nithish P T\\AppData\\Local\\Packages\\PythonSoftwareFoundation.Python.3.12_qbz5n2kfra8p0\\LocalCache\\local-packages\\Python312\\site-packages\\sklearn\\linear_model\\_logistic.py\", line 67, in _check_solver\n",
      "    raise ValueError(\n",
      "ValueError: Solver lbfgs supports only 'l2' or None penalties, got l1 penalty.\n",
      "\n",
      "  warnings.warn(some_fits_failed_message, FitFailedWarning)\n",
      "C:\\Users\\Nithish P T\\AppData\\Local\\Packages\\PythonSoftwareFoundation.Python.3.12_qbz5n2kfra8p0\\LocalCache\\local-packages\\Python312\\site-packages\\sklearn\\model_selection\\_search.py:1051: UserWarning: One or more of the test scores are non-finite: [       nan 0.66551724        nan 0.73679135        nan 0.7980713\n",
      "        nan 0.80315605        nan 0.80312683        nan 0.80312683\n",
      "        nan 0.799737  ]\n",
      "  warnings.warn(\n",
      "C:\\Users\\Nithish P T\\AppData\\Local\\Packages\\PythonSoftwareFoundation.Python.3.12_qbz5n2kfra8p0\\LocalCache\\local-packages\\Python312\\site-packages\\sklearn\\linear_model\\_logistic.py:469: ConvergenceWarning: lbfgs failed to converge (status=1):\n",
      "STOP: TOTAL NO. of ITERATIONS REACHED LIMIT.\n",
      "\n",
      "Increase the number of iterations (max_iter) or scale the data as shown in:\n",
      "    https://scikit-learn.org/stable/modules/preprocessing.html\n",
      "Please also refer to the documentation for alternative solver options:\n",
      "    https://scikit-learn.org/stable/modules/linear_model.html#logistic-regression\n",
      "  n_iter_i = _check_optimize_result(\n"
     ]
    },
    {
     "name": "stdout",
     "output_type": "stream",
     "text": [
      "[DecisionTreeClassifier(random_state=42), SVC(random_state=42), RandomForestClassifier(random_state=42), LogisticRegression(random_state=42), KNeighborsClassifier()] is performed\n",
      "0.803156049094097\n",
      "Fitting 10 folds for each of 40 candidates, totalling 400 fits\n",
      "[DecisionTreeClassifier(random_state=42), SVC(random_state=42), RandomForestClassifier(random_state=42), LogisticRegression(random_state=42), KNeighborsClassifier()] is performed\n",
      "0.775978959672706\n"
     ]
    }
   ],
   "source": [
    "cv_result = []\n",
    "best_estimators = []\n",
    "for i in range(len(classifier)):\n",
    "    clf = GridSearchCV(classifier[i], param_grid=classifier_param[i], cv = StratifiedKFold(n_splits = 10), scoring = \"accuracy\", n_jobs = -1,verbose = 1)\n",
    "    clf.fit(X_train_vc,y_train_vc)\n",
    "    print(f\"{classifier} is performed\")\n",
    "    cv_result.append(clf.best_score_)\n",
    "    best_estimators.append(clf.best_estimator_)\n",
    "    print(cv_result[i])"
   ]
  },
  {
   "cell_type": "code",
   "execution_count": 105,
   "id": "aba71310-2564-489e-b957-91b1d1ce4911",
   "metadata": {},
   "outputs": [
    {
     "data": {
      "text/plain": [
       "Text(0.5, 1.0, 'Cross Validation Scores')"
      ]
     },
     "execution_count": 105,
     "metadata": {},
     "output_type": "execute_result"
    },
    {
     "data": {
      "image/png": "[encoded data removed]",
      "text/plain": [
       "<Figure size 640x480 with 1 Axes>"
      ]
     },
     "metadata": {},
     "output_type": "display_data"
    }
   ],
   "source": [
    "import seaborn as sns\n",
    "cv_results = pd.DataFrame({\"Cross Validation Means\":cv_result, \"ML Models\":[\"DecisionTreeClassifier\", \"SVM\",\"RandomForestClassifier\",\n",
    "             \"LogisticRegression\",\n",
    "             \"KNeighborsClassifier\"]})\n",
    "\n",
    "g = sns.barplot(x=\"Cross Validation Means\", y=\"ML Models\", data = cv_results)\n",
    "g.set_xlabel(\"Mean Accuracy\")\n",
    "g.set_title(\"Cross Validation Scores\")"
   ]
  },
  {
   "cell_type": "markdown",
   "id": "974adb50-2321-4e71-bda2-3904b40daeaa",
   "metadata": {},
   "source": [
    "## Ensemble Modeling"
   ]
  },
  {
   "cell_type": "code",
   "execution_count": 110,
   "id": "2442b7fa-742e-478e-aa8d-a8454234fb4e",
   "metadata": {},
   "outputs": [
    {
     "name": "stdout",
     "output_type": "stream",
     "text": [
      "0.8075601374570447\n"
     ]
    }
   ],
   "source": [
    "votingC = VotingClassifier(estimators = [(\"dt\",best_estimators[0]),\n",
    "                                         #(\"svm\",best_estimators[1]),\n",
    "                                         (\"rfc\",best_estimators[2]),\n",
    "                                         (\"lr\",best_estimators[3])],\n",
    "                                        voting = \"soft\", n_jobs = -1)\n",
    "votingC = votingC.fit(X_train_vc, y_train_vc)\n",
    "print(accuracy_score(votingC.predict(X_test_vc),y_test_vc))"
   ]
  },
  {
   "cell_type": "code",
   "execution_count": null,
   "id": "b8a1a2f1-9e54-43e4-8964-334301beaf99",
   "metadata": {},
   "outputs": [],
   "source": []
  }
 ],
 "metadata": {
  "kernelspec": {
   "display_name": "Python 3 (ipykernel)",
   "language": "python",
   "name": "python3"
  },
  "language_info": {
   "codemirror_mode": {
    "name": "ipython",
    "version": 3
   },
   "file_extension": ".py",
   "mimetype": "text/x-python",
   "name": "python",
   "nbconvert_exporter": "python",
   "pygments_lexer": "ipython3",
   "version": "3.12.2"
  }
 },
 "nbformat": 4,
 "nbformat_minor": 5
}
