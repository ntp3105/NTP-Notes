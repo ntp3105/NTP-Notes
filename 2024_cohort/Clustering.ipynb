{
 "cells": [
  {
   "cell_type": "code",
   "execution_count": 6,
   "id": "f9d04170-0fb8-46f2-9c65-abdcf1149e46",
   "metadata": {},
   "outputs": [],
   "source": [
    "import pandas as pd\n",
    "import numpy as np\n",
    "from sklearn.model_selection import KFold, RandomizedSearchCV, cross_val_score\n",
    "from sklearn.preprocessing import StandardScaler, OneHotEncoder\n",
    "from sklearn.compose import ColumnTransformer\n",
    "from sklearn.pipeline import Pipeline\n",
    "from sklearn.impute import KNNImputer, SimpleImputer\n",
    "from sklearn.ensemble import RandomForestRegressor\n",
    "from sklearn.metrics import make_scorer, mean_absolute_error\n",
    "from scipy.stats import randint, uniform\n",
    "from sklearn.feature_selection import mutual_info_regression\n",
    "import matplotlib.pyplot as plt\n",
    "\n",
    "# Load the datasets\n",
    "df = pd.read_csv('clean_train.csv')\n",
    "df['gears'].replace('Value Missing', np.nan, inplace=True)\n",
    "df['gears'] = df['gears'].astype(float)"
   ]
  },
  {
   "cell_type": "code",
   "execution_count": 8,
   "id": "5861b1b0-71de-4610-8d8d-6ec4dae74e70",
   "metadata": {},
   "outputs": [
    {
     "data": {
      "text/plain": [
       "transmission\n",
       "Automatic    42080\n",
       "other        12193\n",
       "Name: count, dtype: int64"
      ]
     },
     "execution_count": 8,
     "metadata": {},
     "output_type": "execute_result"
    }
   ],
   "source": [
    "df['transmission'].value_counts()"
   ]
  },
  {
   "cell_type": "raw",
   "id": "bce69b78-3cd6-4cca-aeca-3951bc6f446a",
   "metadata": {},
   "source": [
    "df.info()"
   ]
  },
  {
   "cell_type": "code",
   "execution_count": null,
   "id": "aabab193-8df9-4b66-8b9a-0564ce5130d2",
   "metadata": {},
   "outputs": [],
   "source": [
    "columns = ['milage', 'model_year', 'engine_power', 'engine_volume','engine_cylinder','accident','gears']"
   ]
  },
  {
   "cell_type": "code",
   "execution_count": null,
   "id": "0ef39115-f659-4d25-ab49-5e0e7fc653a5",
   "metadata": {},
   "outputs": [],
   "source": [
    "# Preprocess data\n",
    "# Fill missing values in other columns (example: using mean for numerical and mode for categorical)\n",
    "numerical_features = ['model_year', 'milage', 'engine_power', 'engine_volume', 'engine_cylinder', 'price']\n",
    "categorical_features = ['brand', 'model', 'fuel_type', 'cylinder_shape', 'engine', 'transmission', 'ext_col', 'int_col', 'accident', 'clean_title']\n",
    "\n",
    "numerical_transformer = Pipeline(steps=[\n",
    "    ('imputer', SimpleImputer(strategy='mean')),\n",
    "    ('scaler', StandardScaler())\n",
    "])\n",
    "\n",
    "categorical_transformer = Pipeline(steps=[\n",
    "    ('imputer', SimpleImputer(strategy='most_frequent')),\n",
    "    ('onehot', OneHotEncoder(handle_unknown='ignore'))\n",
    "])\n",
    "\n",
    "preprocessor = ColumnTransformer(\n",
    "    transformers=[\n",
    "        ('num', numerical_transformer, numerical_features),\n",
    "        ('cat', categorical_transformer, categorical_features)\n",
    "    ])\n",
    "\n",
    "X = df.drop(columns=['id', 'gears'])\n",
    "X_preprocessed = preprocessor.fit_transform(X)\n",
    "\n",
    "# Perform clustering\n",
    "n_clusters = 5  # Example number of clusters, you might need to adjust this\n",
    "kmeans = KMeans(n_clusters=n_clusters, random_state=42)\n",
    "clusters = kmeans.fit_predict(X_preprocessed)\n",
    "\n",
    "df['cluster'] = clusters\n",
    "\n",
    "# Impute missing 'gears' based on clusters\n",
    "def impute_gears(row, df):\n",
    "    if pd.isna(row['gears']):\n",
    "        cluster = row['cluster']\n",
    "        common_gears = df[df['cluster'] == cluster]['gears'].mode()\n",
    "        if not common_gears.empty:\n",
    "            return common_gears.iloc[0]\n",
    "    return row['gears']\n",
    "\n",
    "df['gears'] = df.apply(impute_gears, args=(df,), axis=1)\n",
    "\n",
    "# Drop the 'cluster' column after imputation\n",
    "df = df.drop(columns=['cluster'])\n",
    "\n",
    "# Display the DataFrame\n",
    "print(df)"
   ]
  }
 ],
 "metadata": {
  "kernelspec": {
   "display_name": "Python 3 (ipykernel)",
   "language": "python",
   "name": "python3"
  },
  "language_info": {
   "codemirror_mode": {
    "name": "ipython",
    "version": 3
   },
   "file_extension": ".py",
   "mimetype": "text/x-python",
   "name": "python",
   "nbconvert_exporter": "python",
   "pygments_lexer": "ipython3",
   "version": "3.8.18"
  }
 },
 "nbformat": 4,
 "nbformat_minor": 5
}
