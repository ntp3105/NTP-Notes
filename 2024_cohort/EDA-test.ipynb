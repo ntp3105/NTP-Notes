{
 "cells": [
  {
   "cell_type": "code",
   "execution_count": 1,
   "id": "a980506c-7a02-466f-8e88-69de36659f0d",
   "metadata": {},
   "outputs": [],
   "source": [
    "import pandas as pd\n",
    "import re\n",
    "import numpy as np\n",
    "import networkx as nx\n",
    "# Set pandas option to display all rows\n",
    "pd.set_option('display.max_rows', None)\n",
    "import seaborn as sns\n",
    "import matplotlib.pyplot as plt\n",
    "from matplotlib import gridspec\n",
    "from sklearn.feature_selection import mutual_info_regression\n",
    "from io import BytesIO\n",
    "import base64\n",
    "import ipywidgets as widgets\n",
    "from IPython.display import display"
   ]
  },
  {
   "cell_type": "code",
   "execution_count": 2,
   "id": "651503ad-83c8-437f-864c-87c60848d841",
   "metadata": {},
   "outputs": [],
   "source": [
    "#df = pd.read_csv('.\\\\data\\\\train.csv')\n",
    "df = pd.read_csv('.\\\\data\\\\test.csv')"
   ]
  },
  {
   "cell_type": "code",
   "execution_count": 3,
   "id": "cb9744ec-6a4b-4f0a-9d68-9a149c37f383",
   "metadata": {},
   "outputs": [
    {
     "data": {
      "text/html": [
       "<div>\n",
       "<style scoped>\n",
       "    .dataframe tbody tr th:only-of-type {\n",
       "        vertical-align: middle;\n",
       "    }\n",
       "\n",
       "    .dataframe tbody tr th {\n",
       "        vertical-align: top;\n",
       "    }\n",
       "\n",
       "    .dataframe thead th {\n",
       "        text-align: right;\n",
       "    }\n",
       "</style>\n",
       "<table border=\"1\" class=\"dataframe\">\n",
       "  <thead>\n",
       "    <tr style=\"text-align: right;\">\n",
       "      <th></th>\n",
       "      <th>id</th>\n",
       "      <th>brand</th>\n",
       "      <th>model</th>\n",
       "      <th>model_year</th>\n",
       "      <th>milage</th>\n",
       "      <th>fuel_type</th>\n",
       "      <th>engine</th>\n",
       "      <th>transmission</th>\n",
       "      <th>ext_col</th>\n",
       "      <th>int_col</th>\n",
       "      <th>accident</th>\n",
       "      <th>clean_title</th>\n",
       "    </tr>\n",
       "  </thead>\n",
       "  <tbody>\n",
       "    <tr>\n",
       "      <th>0</th>\n",
       "      <td>54273</td>\n",
       "      <td>Mercedes-Benz</td>\n",
       "      <td>E-Class E 350</td>\n",
       "      <td>2014</td>\n",
       "      <td>73000</td>\n",
       "      <td>Gasoline</td>\n",
       "      <td>302.0HP 3.5L V6 Cylinder Engine Gasoline Fuel</td>\n",
       "      <td>A/T</td>\n",
       "      <td>White</td>\n",
       "      <td>Beige</td>\n",
       "      <td>None reported</td>\n",
       "      <td>Yes</td>\n",
       "    </tr>\n",
       "    <tr>\n",
       "      <th>1</th>\n",
       "      <td>54274</td>\n",
       "      <td>Lexus</td>\n",
       "      <td>RX 350 Base</td>\n",
       "      <td>2015</td>\n",
       "      <td>128032</td>\n",
       "      <td>Gasoline</td>\n",
       "      <td>275.0HP 3.5L V6 Cylinder Engine Gasoline Fuel</td>\n",
       "      <td>8-Speed A/T</td>\n",
       "      <td>Silver</td>\n",
       "      <td>Black</td>\n",
       "      <td>None reported</td>\n",
       "      <td>Yes</td>\n",
       "    </tr>\n",
       "    <tr>\n",
       "      <th>2</th>\n",
       "      <td>54275</td>\n",
       "      <td>Mercedes-Benz</td>\n",
       "      <td>C-Class C 300</td>\n",
       "      <td>2015</td>\n",
       "      <td>51983</td>\n",
       "      <td>Gasoline</td>\n",
       "      <td>241.0HP 2.0L 4 Cylinder Engine Gasoline Fuel</td>\n",
       "      <td>7-Speed A/T</td>\n",
       "      <td>Blue</td>\n",
       "      <td>White</td>\n",
       "      <td>None reported</td>\n",
       "      <td>Yes</td>\n",
       "    </tr>\n",
       "    <tr>\n",
       "      <th>3</th>\n",
       "      <td>54276</td>\n",
       "      <td>Land</td>\n",
       "      <td>Rover Range Rover 5.0L Supercharged Autobiogra...</td>\n",
       "      <td>2018</td>\n",
       "      <td>29500</td>\n",
       "      <td>Gasoline</td>\n",
       "      <td>518.0HP 5.0L 8 Cylinder Engine Gasoline Fuel</td>\n",
       "      <td>Transmission w/Dual Shift Mode</td>\n",
       "      <td>White</td>\n",
       "      <td>White</td>\n",
       "      <td>At least 1 accident or damage reported</td>\n",
       "      <td>Yes</td>\n",
       "    </tr>\n",
       "    <tr>\n",
       "      <th>4</th>\n",
       "      <td>54277</td>\n",
       "      <td>BMW</td>\n",
       "      <td>X6 xDrive40i</td>\n",
       "      <td>2020</td>\n",
       "      <td>90000</td>\n",
       "      <td>Gasoline</td>\n",
       "      <td>335.0HP 3.0L Straight 6 Cylinder Engine Gasoli...</td>\n",
       "      <td>8-Speed A/T</td>\n",
       "      <td>White</td>\n",
       "      <td>Black</td>\n",
       "      <td>At least 1 accident or damage reported</td>\n",
       "      <td>Yes</td>\n",
       "    </tr>\n",
       "  </tbody>\n",
       "</table>\n",
       "</div>"
      ],
      "text/plain": [
       "      id          brand                                              model  \\\n",
       "0  54273  Mercedes-Benz                                      E-Class E 350   \n",
       "1  54274          Lexus                                        RX 350 Base   \n",
       "2  54275  Mercedes-Benz                                      C-Class C 300   \n",
       "3  54276           Land  Rover Range Rover 5.0L Supercharged Autobiogra...   \n",
       "4  54277            BMW                                       X6 xDrive40i   \n",
       "\n",
       "   model_year  milage fuel_type  \\\n",
       "0        2014   73000  Gasoline   \n",
       "1        2015  128032  Gasoline   \n",
       "2        2015   51983  Gasoline   \n",
       "3        2018   29500  Gasoline   \n",
       "4        2020   90000  Gasoline   \n",
       "\n",
       "                                              engine  \\\n",
       "0      302.0HP 3.5L V6 Cylinder Engine Gasoline Fuel   \n",
       "1      275.0HP 3.5L V6 Cylinder Engine Gasoline Fuel   \n",
       "2       241.0HP 2.0L 4 Cylinder Engine Gasoline Fuel   \n",
       "3       518.0HP 5.0L 8 Cylinder Engine Gasoline Fuel   \n",
       "4  335.0HP 3.0L Straight 6 Cylinder Engine Gasoli...   \n",
       "\n",
       "                     transmission ext_col int_col  \\\n",
       "0                             A/T   White   Beige   \n",
       "1                     8-Speed A/T  Silver   Black   \n",
       "2                     7-Speed A/T    Blue   White   \n",
       "3  Transmission w/Dual Shift Mode   White   White   \n",
       "4                     8-Speed A/T   White   Black   \n",
       "\n",
       "                                 accident clean_title  \n",
       "0                           None reported         Yes  \n",
       "1                           None reported         Yes  \n",
       "2                           None reported         Yes  \n",
       "3  At least 1 accident or damage reported         Yes  \n",
       "4  At least 1 accident or damage reported         Yes  "
      ]
     },
     "execution_count": 3,
     "metadata": {},
     "output_type": "execute_result"
    }
   ],
   "source": [
    "df.head(5)"
   ]
  },
  {
   "cell_type": "code",
   "execution_count": 4,
   "id": "78b109b2-4183-4754-a47a-277b255d6b66",
   "metadata": {},
   "outputs": [
    {
     "data": {
      "text/html": [
       "<div>\n",
       "<style scoped>\n",
       "    .dataframe tbody tr th:only-of-type {\n",
       "        vertical-align: middle;\n",
       "    }\n",
       "\n",
       "    .dataframe tbody tr th {\n",
       "        vertical-align: top;\n",
       "    }\n",
       "\n",
       "    .dataframe thead th {\n",
       "        text-align: right;\n",
       "    }\n",
       "</style>\n",
       "<table border=\"1\" class=\"dataframe\">\n",
       "  <thead>\n",
       "    <tr style=\"text-align: right;\">\n",
       "      <th></th>\n",
       "      <th>id</th>\n",
       "      <th>brand</th>\n",
       "      <th>model</th>\n",
       "      <th>model_year</th>\n",
       "      <th>milage</th>\n",
       "      <th>fuel_type</th>\n",
       "      <th>engine</th>\n",
       "      <th>transmission</th>\n",
       "      <th>ext_col</th>\n",
       "      <th>int_col</th>\n",
       "      <th>accident</th>\n",
       "      <th>clean_title</th>\n",
       "    </tr>\n",
       "  </thead>\n",
       "  <tbody>\n",
       "    <tr>\n",
       "      <th>count</th>\n",
       "      <td>36183.000000</td>\n",
       "      <td>36183</td>\n",
       "      <td>36183</td>\n",
       "      <td>36183.000000</td>\n",
       "      <td>36183.000000</td>\n",
       "      <td>36183</td>\n",
       "      <td>36183</td>\n",
       "      <td>36183</td>\n",
       "      <td>36183</td>\n",
       "      <td>36183</td>\n",
       "      <td>36183</td>\n",
       "      <td>36183</td>\n",
       "    </tr>\n",
       "    <tr>\n",
       "      <th>unique</th>\n",
       "      <td>NaN</td>\n",
       "      <td>53</td>\n",
       "      <td>1791</td>\n",
       "      <td>NaN</td>\n",
       "      <td>NaN</td>\n",
       "      <td>7</td>\n",
       "      <td>1038</td>\n",
       "      <td>44</td>\n",
       "      <td>230</td>\n",
       "      <td>111</td>\n",
       "      <td>2</td>\n",
       "      <td>1</td>\n",
       "    </tr>\n",
       "    <tr>\n",
       "      <th>top</th>\n",
       "      <td>NaN</td>\n",
       "      <td>BMW</td>\n",
       "      <td>F-150 XLT</td>\n",
       "      <td>NaN</td>\n",
       "      <td>NaN</td>\n",
       "      <td>Gasoline</td>\n",
       "      <td>300.0HP 3.0L Straight 6 Cylinder Engine Gasoli...</td>\n",
       "      <td>A/T</td>\n",
       "      <td>Black</td>\n",
       "      <td>Black</td>\n",
       "      <td>None reported</td>\n",
       "      <td>Yes</td>\n",
       "    </tr>\n",
       "    <tr>\n",
       "      <th>freq</th>\n",
       "      <td>NaN</td>\n",
       "      <td>4854</td>\n",
       "      <td>496</td>\n",
       "      <td>NaN</td>\n",
       "      <td>NaN</td>\n",
       "      <td>33033</td>\n",
       "      <td>886</td>\n",
       "      <td>11273</td>\n",
       "      <td>10027</td>\n",
       "      <td>21122</td>\n",
       "      <td>26598</td>\n",
       "      <td>36183</td>\n",
       "    </tr>\n",
       "    <tr>\n",
       "      <th>mean</th>\n",
       "      <td>72364.000000</td>\n",
       "      <td>NaN</td>\n",
       "      <td>NaN</td>\n",
       "      <td>2015.063953</td>\n",
       "      <td>72479.266755</td>\n",
       "      <td>NaN</td>\n",
       "      <td>NaN</td>\n",
       "      <td>NaN</td>\n",
       "      <td>NaN</td>\n",
       "      <td>NaN</td>\n",
       "      <td>NaN</td>\n",
       "      <td>NaN</td>\n",
       "    </tr>\n",
       "    <tr>\n",
       "      <th>std</th>\n",
       "      <td>10445.276732</td>\n",
       "      <td>NaN</td>\n",
       "      <td>NaN</td>\n",
       "      <td>5.589336</td>\n",
       "      <td>50714.968252</td>\n",
       "      <td>NaN</td>\n",
       "      <td>NaN</td>\n",
       "      <td>NaN</td>\n",
       "      <td>NaN</td>\n",
       "      <td>NaN</td>\n",
       "      <td>NaN</td>\n",
       "      <td>NaN</td>\n",
       "    </tr>\n",
       "    <tr>\n",
       "      <th>min</th>\n",
       "      <td>54273.000000</td>\n",
       "      <td>NaN</td>\n",
       "      <td>NaN</td>\n",
       "      <td>1974.000000</td>\n",
       "      <td>100.000000</td>\n",
       "      <td>NaN</td>\n",
       "      <td>NaN</td>\n",
       "      <td>NaN</td>\n",
       "      <td>NaN</td>\n",
       "      <td>NaN</td>\n",
       "      <td>NaN</td>\n",
       "      <td>NaN</td>\n",
       "    </tr>\n",
       "    <tr>\n",
       "      <th>25%</th>\n",
       "      <td>63318.500000</td>\n",
       "      <td>NaN</td>\n",
       "      <td>NaN</td>\n",
       "      <td>2012.000000</td>\n",
       "      <td>31681.000000</td>\n",
       "      <td>NaN</td>\n",
       "      <td>NaN</td>\n",
       "      <td>NaN</td>\n",
       "      <td>NaN</td>\n",
       "      <td>NaN</td>\n",
       "      <td>NaN</td>\n",
       "      <td>NaN</td>\n",
       "    </tr>\n",
       "    <tr>\n",
       "      <th>50%</th>\n",
       "      <td>72364.000000</td>\n",
       "      <td>NaN</td>\n",
       "      <td>NaN</td>\n",
       "      <td>2016.000000</td>\n",
       "      <td>65680.000000</td>\n",
       "      <td>NaN</td>\n",
       "      <td>NaN</td>\n",
       "      <td>NaN</td>\n",
       "      <td>NaN</td>\n",
       "      <td>NaN</td>\n",
       "      <td>NaN</td>\n",
       "      <td>NaN</td>\n",
       "    </tr>\n",
       "    <tr>\n",
       "      <th>75%</th>\n",
       "      <td>81409.500000</td>\n",
       "      <td>NaN</td>\n",
       "      <td>NaN</td>\n",
       "      <td>2019.000000</td>\n",
       "      <td>102000.000000</td>\n",
       "      <td>NaN</td>\n",
       "      <td>NaN</td>\n",
       "      <td>NaN</td>\n",
       "      <td>NaN</td>\n",
       "      <td>NaN</td>\n",
       "      <td>NaN</td>\n",
       "      <td>NaN</td>\n",
       "    </tr>\n",
       "    <tr>\n",
       "      <th>max</th>\n",
       "      <td>90455.000000</td>\n",
       "      <td>NaN</td>\n",
       "      <td>NaN</td>\n",
       "      <td>2024.000000</td>\n",
       "      <td>405000.000000</td>\n",
       "      <td>NaN</td>\n",
       "      <td>NaN</td>\n",
       "      <td>NaN</td>\n",
       "      <td>NaN</td>\n",
       "      <td>NaN</td>\n",
       "      <td>NaN</td>\n",
       "      <td>NaN</td>\n",
       "    </tr>\n",
       "  </tbody>\n",
       "</table>\n",
       "</div>"
      ],
      "text/plain": [
       "                  id  brand      model    model_year         milage fuel_type  \\\n",
       "count   36183.000000  36183      36183  36183.000000   36183.000000     36183   \n",
       "unique           NaN     53       1791           NaN            NaN         7   \n",
       "top              NaN    BMW  F-150 XLT           NaN            NaN  Gasoline   \n",
       "freq             NaN   4854        496           NaN            NaN     33033   \n",
       "mean    72364.000000    NaN        NaN   2015.063953   72479.266755       NaN   \n",
       "std     10445.276732    NaN        NaN      5.589336   50714.968252       NaN   \n",
       "min     54273.000000    NaN        NaN   1974.000000     100.000000       NaN   \n",
       "25%     63318.500000    NaN        NaN   2012.000000   31681.000000       NaN   \n",
       "50%     72364.000000    NaN        NaN   2016.000000   65680.000000       NaN   \n",
       "75%     81409.500000    NaN        NaN   2019.000000  102000.000000       NaN   \n",
       "max     90455.000000    NaN        NaN   2024.000000  405000.000000       NaN   \n",
       "\n",
       "                                                   engine transmission  \\\n",
       "count                                               36183        36183   \n",
       "unique                                               1038           44   \n",
       "top     300.0HP 3.0L Straight 6 Cylinder Engine Gasoli...          A/T   \n",
       "freq                                                  886        11273   \n",
       "mean                                                  NaN          NaN   \n",
       "std                                                   NaN          NaN   \n",
       "min                                                   NaN          NaN   \n",
       "25%                                                   NaN          NaN   \n",
       "50%                                                   NaN          NaN   \n",
       "75%                                                   NaN          NaN   \n",
       "max                                                   NaN          NaN   \n",
       "\n",
       "       ext_col int_col       accident clean_title  \n",
       "count    36183   36183          36183       36183  \n",
       "unique     230     111              2           1  \n",
       "top      Black   Black  None reported         Yes  \n",
       "freq     10027   21122          26598       36183  \n",
       "mean       NaN     NaN            NaN         NaN  \n",
       "std        NaN     NaN            NaN         NaN  \n",
       "min        NaN     NaN            NaN         NaN  \n",
       "25%        NaN     NaN            NaN         NaN  \n",
       "50%        NaN     NaN            NaN         NaN  \n",
       "75%        NaN     NaN            NaN         NaN  \n",
       "max        NaN     NaN            NaN         NaN  "
      ]
     },
     "execution_count": 4,
     "metadata": {},
     "output_type": "execute_result"
    }
   ],
   "source": [
    "df.describe(include='all')"
   ]
  },
  {
   "cell_type": "code",
   "execution_count": 5,
   "id": "15da6313-3550-4143-b476-3f043cc5317b",
   "metadata": {},
   "outputs": [
    {
     "data": {
      "text/plain": [
       "id              0\n",
       "brand           0\n",
       "model           0\n",
       "model_year      0\n",
       "milage          0\n",
       "fuel_type       0\n",
       "engine          0\n",
       "transmission    0\n",
       "ext_col         0\n",
       "int_col         0\n",
       "accident        0\n",
       "clean_title     0\n",
       "dtype: int64"
      ]
     },
     "execution_count": 5,
     "metadata": {},
     "output_type": "execute_result"
    }
   ],
   "source": [
    "df.isnull().sum()"
   ]
  },
  {
   "cell_type": "code",
   "execution_count": 6,
   "id": "edcc31b2-cbbd-469e-9274-4befe80e6f70",
   "metadata": {},
   "outputs": [
    {
     "data": {
      "text/html": [
       "<div>\n",
       "<style scoped>\n",
       "    .dataframe tbody tr th:only-of-type {\n",
       "        vertical-align: middle;\n",
       "    }\n",
       "\n",
       "    .dataframe tbody tr th {\n",
       "        vertical-align: top;\n",
       "    }\n",
       "\n",
       "    .dataframe thead th {\n",
       "        text-align: right;\n",
       "    }\n",
       "</style>\n",
       "<table border=\"1\" class=\"dataframe\">\n",
       "  <thead>\n",
       "    <tr style=\"text-align: right;\">\n",
       "      <th></th>\n",
       "      <th>id</th>\n",
       "      <th>model_year</th>\n",
       "      <th>milage</th>\n",
       "    </tr>\n",
       "  </thead>\n",
       "  <tbody>\n",
       "    <tr>\n",
       "      <th>count</th>\n",
       "      <td>36183.000000</td>\n",
       "      <td>36183.000000</td>\n",
       "      <td>36183.000000</td>\n",
       "    </tr>\n",
       "    <tr>\n",
       "      <th>mean</th>\n",
       "      <td>72364.000000</td>\n",
       "      <td>2015.063953</td>\n",
       "      <td>72479.266755</td>\n",
       "    </tr>\n",
       "    <tr>\n",
       "      <th>std</th>\n",
       "      <td>10445.276732</td>\n",
       "      <td>5.589336</td>\n",
       "      <td>50714.968252</td>\n",
       "    </tr>\n",
       "    <tr>\n",
       "      <th>min</th>\n",
       "      <td>54273.000000</td>\n",
       "      <td>1974.000000</td>\n",
       "      <td>100.000000</td>\n",
       "    </tr>\n",
       "    <tr>\n",
       "      <th>25%</th>\n",
       "      <td>63318.500000</td>\n",
       "      <td>2012.000000</td>\n",
       "      <td>31681.000000</td>\n",
       "    </tr>\n",
       "    <tr>\n",
       "      <th>50%</th>\n",
       "      <td>72364.000000</td>\n",
       "      <td>2016.000000</td>\n",
       "      <td>65680.000000</td>\n",
       "    </tr>\n",
       "    <tr>\n",
       "      <th>75%</th>\n",
       "      <td>81409.500000</td>\n",
       "      <td>2019.000000</td>\n",
       "      <td>102000.000000</td>\n",
       "    </tr>\n",
       "    <tr>\n",
       "      <th>max</th>\n",
       "      <td>90455.000000</td>\n",
       "      <td>2024.000000</td>\n",
       "      <td>405000.000000</td>\n",
       "    </tr>\n",
       "  </tbody>\n",
       "</table>\n",
       "</div>"
      ],
      "text/plain": [
       "                 id    model_year         milage\n",
       "count  36183.000000  36183.000000   36183.000000\n",
       "mean   72364.000000   2015.063953   72479.266755\n",
       "std    10445.276732      5.589336   50714.968252\n",
       "min    54273.000000   1974.000000     100.000000\n",
       "25%    63318.500000   2012.000000   31681.000000\n",
       "50%    72364.000000   2016.000000   65680.000000\n",
       "75%    81409.500000   2019.000000  102000.000000\n",
       "max    90455.000000   2024.000000  405000.000000"
      ]
     },
     "execution_count": 6,
     "metadata": {},
     "output_type": "execute_result"
    }
   ],
   "source": [
    "df.describe()  # all nuemrical features"
   ]
  },
  {
   "cell_type": "markdown",
   "id": "88495003-80f8-46e8-86c9-1ea331a0ee33",
   "metadata": {},
   "source": [
    "## <span style='color: red;'>Mutual Information score</span>"
   ]
  },
  {
   "cell_type": "code",
   "execution_count": 8,
   "id": "9b3c19d9-8600-4b62-b0ab-0aac121c8cef",
   "metadata": {},
   "outputs": [],
   "source": [
    "X = df.copy()\n",
    "#y = X.pop(\"price\")\n",
    "\n",
    "# Label encoding for categoricals\n",
    "for colname in X.select_dtypes(\"object\"):\n",
    "    X[colname], _ = X[colname].factorize()\n",
    "\n",
    "# All discrete features should now have integer dtypes (double-check this before using MI!)\n",
    "discrete_features = X.dtypes == int"
   ]
  },
  {
   "cell_type": "code",
   "execution_count": null,
   "id": "31ae6058-c506-472c-a8ca-2209697d23c9",
   "metadata": {},
   "outputs": [],
   "source": [
    "def make_mi_scores(X, y, discrete_features):\n",
    "    mi_scores = mutual_info_regression(X, y, discrete_features=discrete_features)\n",
    "    mi_scores = pd.Series(mi_scores, name=\"MI Scores\", index=X.columns)\n",
    "    mi_scores = mi_scores.sort_values(ascending=False)\n",
    "    return mi_scores\n",
    "\n",
    "mi_scores = make_mi_scores(X, y, discrete_features)\n",
    "mi_scores[::3]  # show a few features with their MI scores"
   ]
  },
  {
   "cell_type": "code",
   "execution_count": null,
   "id": "68c7575b-5a92-4e57-8bab-1f35498e594a",
   "metadata": {},
   "outputs": [],
   "source": [
    "def plot_mi_scores(scores):\n",
    "    scores = scores.sort_values(ascending=True)\n",
    "    width = np.arange(len(scores))\n",
    "    ticks = list(scores.index)\n",
    "    plt.barh(width, scores)\n",
    "    plt.yticks(width, ticks)\n",
    "    plt.title(\"Mutual Information Scores\")\n",
    "\n",
    "\n",
    "plt.figure(dpi=100, figsize=(8, 5))\n",
    "plot_mi_scores(mi_scores)"
   ]
  },
  {
   "cell_type": "markdown",
   "id": "1ef2dd21-52b6-4afd-b6a7-b5f6268e871e",
   "metadata": {},
   "source": [
    "## <span style='color: red;'>Using PEARSON correlation for numerical columns</span>"
   ]
  },
  {
   "cell_type": "code",
   "execution_count": null,
   "id": "3b0ec3a2-c8ed-4bd2-9072-e16b742d8479",
   "metadata": {},
   "outputs": [],
   "source": [
    "numeric_features = df.select_dtypes(include=['int64', 'float64'])\n",
    "# Calculate correlation matrix for categorical columns (if applicable)\n",
    "if not numeric_features.empty:\n",
    "  pearson_corr_matrix = numeric_features.corr(method='pearson')  # Spearman for categorical data\n",
    "  print(\"Correlation Matrix (numerical features):\")\n",
    "else:\n",
    "  print(\"No numerical columns found in the DataFrame for correlation.\")\n",
    "pearson_corr_matrix"
   ]
  },
  {
   "cell_type": "code",
   "execution_count": null,
   "id": "b628a7c0-8178-42eb-9682-b44bd3b2e292",
   "metadata": {},
   "outputs": [],
   "source": [
    "sns.heatmap(Pearson_corr_matrix, annot=True, cmap='coolwarm')\n",
    "plt.show()"
   ]
  },
  {
   "cell_type": "markdown",
   "id": "be287683-d847-4adc-adef-6d1438821d72",
   "metadata": {},
   "source": [
    "## <span style='color: red;'>Using SPEARMAN correlation for numerical columns</span>"
   ]
  },
  {
   "cell_type": "code",
   "execution_count": null,
   "id": "8c0d6ff4-b82e-40bd-ab2c-d25e0875eee3",
   "metadata": {
    "scrolled": true
   },
   "outputs": [],
   "source": [
    "numeric_features = df.select_dtypes(include=['int64', 'float64'])\n",
    "# Calculate correlation matrix for categorical columns (if applicable)\n",
    "if not numeric_features.empty:\n",
    "  spearman_corr_matrix = numeric_features.corr(method='spearman')  # Spearman for categorical data\n",
    "  print(\"Correlation Matrix (numerical features):\")\n",
    "else:\n",
    "  print(\"No numerical columns found in the DataFrame for correlation.\")\n",
    "spearman_corr_matrix"
   ]
  },
  {
   "cell_type": "code",
   "execution_count": null,
   "id": "f3a0022a-324f-4692-b1f1-39a852285bd9",
   "metadata": {},
   "outputs": [],
   "source": [
    "sns.heatmap(spearman_corr_matrix, annot=True, cmap='coolwarm')\n",
    "plt.show()"
   ]
  },
  {
   "cell_type": "markdown",
   "id": "7fb6045a-811c-4ccf-bd51-e87131ed7c27",
   "metadata": {},
   "source": [
    "## Plotting both correlation stacked side by side"
   ]
  },
  {
   "cell_type": "code",
   "execution_count": null,
   "id": "507fe0a5-e8a9-4f06-ab34-efa6958c7fb2",
   "metadata": {},
   "outputs": [],
   "source": [
    "# Assuming you have two correlation matrices (corr1 and corr2)\n",
    "fig, (ax1, ax2) = plt.subplots(1, 2, figsize=(12, 6))  # Adjust figure size as needed\n",
    "\n",
    "# Define subplot positions using gridspec\n",
    "gs = gridspec.GridSpec(1, 2, width_ratios=[1, 1])  # Adjust width ratios if needed\n",
    "\n",
    "# Create heatmaps with informative titles and labels\n",
    "ax1 = plt.subplot(gs[0])\n",
    "sns.heatmap(pearson_corr_matrix, annot=True, cmap=\"coolwarm\", ax=ax1)\n",
    "ax1.set_title(\"Pearson Correlation\")\n",
    "ax1.set_xlabel(\"Variable\")\n",
    "ax1.set_ylabel(\"Variable\")\n",
    "\n",
    "ax2 = plt.subplot(gs[1])\n",
    "sns.heatmap(spearman_corr_matrix, annot=True, cmap=\"coolwarm\", ax=ax2)\n",
    "ax2.set_title(\"spearman Correlation\")\n",
    "ax2.set_xlabel(\"Variable\")\n",
    "ax2.set_ylabel(\"Variable\")\n",
    "\n",
    "ax1.set_aspect('equal')\n",
    "ax2.set_aspect('equal')\n",
    "\n",
    "# Adjust spacing between subplots (optional)\n",
    "plt.tight_layout()\n",
    "plt.show()"
   ]
  },
  {
   "cell_type": "markdown",
   "id": "4851fb41-a114-4d48-9d57-faa742df1af8",
   "metadata": {},
   "source": [
    "# <span style='color: green;'>BRAND</span>"
   ]
  },
  {
   "cell_type": "markdown",
   "id": "bd3f04f9-30fb-45a8-b135-dbb5aad6ed19",
   "metadata": {},
   "source": [
    "## Price replot"
   ]
  },
  {
   "cell_type": "code",
   "execution_count": null,
   "id": "a82a7081-7888-4960-8b48-55ba9e25ff4a",
   "metadata": {},
   "outputs": [],
   "source": [
    "# Set the plot's height and aspect ratio\n",
    "sns.relplot(x=\"brand\", y=\"price\", data=df, height=5, aspect=2.5)\n",
    "\n",
    "# Rotate x-axis labels for better readability\n",
    "plt.xticks(rotation=90, ha='right')\n",
    "\n",
    "# Show the plot\n",
    "plt.show()"
   ]
  },
  {
   "cell_type": "code",
   "execution_count": 10,
   "id": "c5d5475e-0c89-4c4c-8229-22d35e7623cb",
   "metadata": {},
   "outputs": [
    {
     "data": {
      "image/png": "[encoded data removed]",
      "text/plain": [
       "<Figure size 800x600 with 1 Axes>"
      ]
     },
     "metadata": {},
     "output_type": "display_data"
    }
   ],
   "source": [
    "# Assuming 'brand' is the column containing brand names in your DataFrame (replace if necessary)\n",
    "brands = df['brand'].sort_values().to_list()  # Sort brands alphabetically\n",
    "\n",
    "# Create the histogram with informative labels and title\n",
    "plt.figure(figsize=(8, 6))  # Adjust figure size as needed\n",
    "plt.hist(brands, bins=100, edgecolor='black', alpha=0.7)  # Adjust bin count and transparency\n",
    "plt.xlabel('Brand (Alphabetical)')\n",
    "plt.ylabel('Frequency')\n",
    "plt.title('Distribution of Brands (Sorted Alphabetically)')\n",
    "\n",
    "# Rotate x-axis labels for better readability if needed\n",
    "plt.xticks(rotation=90)\n",
    "\n",
    "# Customize the plot (optional)\n",
    "plt.grid(axis='y', linestyle='--', alpha=0.6)  # Add grid lines with dashed style and adjusted transparency\n",
    "plt.tight_layout()  # Adjust spacing between elements\n",
    "\n",
    "# Display the plot\n",
    "plt.show()\n"
   ]
  },
  {
   "cell_type": "code",
   "execution_count": null,
   "id": "c384f1d4-47df-4e35-8a77-6fb2b92a2bae",
   "metadata": {},
   "outputs": [],
   "source": [
    "from sklearn.feature_selection import mutual_info_regression\n",
    "# Calculate mutual information for categorical variables\n",
    "def calculate_mutual_info(df, target):\n",
    "    categorical_columns = ['brand']\n",
    "    mi = mutual_info_regression(pd.get_dummies(df[categorical_columns]), df[target])\n",
    "    mi_series = pd.Series(mi, index=pd.get_dummies(df[categorical_columns]).columns)\n",
    "    return mi_series\n",
    "\n",
    "mi_scores = calculate_mutual_info(df, 'price')\n",
    "mi_score = mi_scores.sum()\n",
    "mi_score"
   ]
  },
  {
   "cell_type": "markdown",
   "id": "4921f0d7-91da-447f-84a3-ec851239fe76",
   "metadata": {},
   "source": [
    "# <span style='color: green;'>MODEL</span>"
   ]
  },
  {
   "cell_type": "code",
   "execution_count": null,
   "id": "0363a918-3201-48a4-b333-f445b5bac07e",
   "metadata": {},
   "outputs": [],
   "source": [
    "# Step 1: Extract unique words from the 'model' column\n",
    "unique_words = df['model'].unique()\n",
    "\n",
    "# Step 2: Create a graph using networkx\n",
    "G = nx.Graph()\n",
    "\n",
    "# Add nodes for brands\n",
    "brands = 'Acura'\n",
    "G.add_nodes_from(brands, bipartite=0)\n",
    "\n",
    "# Add nodes for unique words\n",
    "G.add_nodes_from(unique_words, bipartite=1)\n",
    "\n",
    "# Add edges between brands and associated unique words\n",
    "for brand in brands:\n",
    "    models = df[df['brand'] == brand]['model'].unique()\n",
    "    for model in models:\n",
    "        G.add_edge(brand, model)\n",
    "\n",
    "# Step 3: Plot the graph\n",
    "plt.figure(figsize=(100, 100))\n",
    "pos = nx.spring_layout(G, k=0.5)  # Position nodes using a spring layout\n",
    "nx.draw(G, pos, with_labels=True, node_color='skyblue', node_size=2000, font_size=10, font_weight='bold', edge_color='gray', linewidths=1, alpha=0.8)\n",
    "\n",
    "plt.title('Brand-Model Connections', fontsize=15)\n",
    "\n",
    "# Save the plot to a BytesIO object\n",
    "buf = BytesIO()\n",
    "plt.savefig(buf, format='png')\n",
    "buf.seek(0)\n",
    "image_base64 = base64.b64encode(buf.getvalue()).decode('utf-8')\n",
    "plt.close()\n",
    "\n",
    "# Generate HTML to display the image in a new tab with zoom functionality\n",
    "html_content = f'''\n",
    "<!DOCTYPE html>\n",
    "<html>\n",
    "<head>\n",
    "<meta name=\"viewport\" content=\"width=device-width, initial-scale=1.0\">\n",
    "<style>\n",
    "img {{\n",
    "  width: 100%;\n",
    "  height: auto;\n",
    "}}\n",
    "</style>\n",
    "</head>\n",
    "<body>\n",
    "<img src=\"data:image/png;base64,{image_base64}\">\n",
    "</body>\n",
    "</html>\n",
    "'''\n",
    "\n",
    "# Write HTML content to a file (or display in a web browser)\n",
    "with open('brand_model_graph.html', 'w') as f:\n",
    "    f.write(html_content)\n",
    "\n",
    "# Open the HTML file in a web browser (optional)\n",
    "import webbrowser\n",
    "webbrowser.open('brand_model_graph.html')"
   ]
  },
  {
   "cell_type": "code",
   "execution_count": null,
   "id": "63ba5aa9-73df-4dca-93d7-f39a6557efe1",
   "metadata": {},
   "outputs": [],
   "source": [
    "df['model'].nunique()"
   ]
  },
  {
   "cell_type": "code",
   "execution_count": null,
   "id": "16993a36-6c9c-4237-af90-345c76d9d1e1",
   "metadata": {
    "scrolled": true
   },
   "outputs": [],
   "source": [
    "# Group by 'brand' and aggregate 'model' and 'price'\n",
    "grouped_df = df.groupby('brand').agg({\n",
    "    'model': lambda x: ', '.join(x.unique()),\n",
    "    'price': ['sum', 'mean', 'std']  # Include standard deviation\n",
    "}).reset_index()\n",
    "\n",
    "# Adjust column names\n",
    "grouped_df.columns = ['brand', 'models', 'total_price', 'average_price', 'price_std']\n",
    "\n",
    "# Display the grouped DataFrame\n",
    "grouped_df"
   ]
  },
  {
   "cell_type": "code",
   "execution_count": null,
   "id": "549379c1-5697-4a69-ae7b-7d8863cab9a7",
   "metadata": {},
   "outputs": [],
   "source": [
    "from sklearn.feature_selection import mutual_info_regression\n",
    "# Calculate mutual information for categorical variables\n",
    "def calculate_mutual_info(df, target):\n",
    "    categorical_columns = ['model']\n",
    "    mi = mutual_info_regression(pd.get_dummies(df[categorical_columns]), df[target])\n",
    "    mi_series = pd.Series(mi, index=pd.get_dummies(df[categorical_columns]).columns)\n",
    "    return mi_series\n",
    "\n",
    "mi_scores = calculate_mutual_info(df, 'price')\n",
    "mi_score = mi_scores.sum()\n",
    "mi_score"
   ]
  },
  {
   "cell_type": "markdown",
   "id": "6c133911-ccac-4ee9-af90-98ed5a2a28ae",
   "metadata": {},
   "source": [
    "# <span style='color: green;'>MODEL_YEAR</span>"
   ]
  },
  {
   "cell_type": "code",
   "execution_count": null,
   "id": "352a3f59-eb9a-477c-a937-3e3f3ea73b6e",
   "metadata": {},
   "outputs": [],
   "source": [
    "df['model_year'].value_counts()"
   ]
  },
  {
   "cell_type": "code",
   "execution_count": null,
   "id": "ff788b38-fc40-4116-b5f2-c4516ba213b4",
   "metadata": {},
   "outputs": [],
   "source": [
    "plt.figure(figsize=(20, 6))  # Adjust figure size as needed \n",
    "plt.bar(df['model_year'], df['price'])  # X-axis: int_col, Y-axis: price\n",
    "plt.xlabel('model_year')\n",
    "plt.ylabel('Price')\n",
    "plt.title('Price Distribution by model_year')\n",
    "plt.xticks(rotation=90)  # Optional: Rotate x-axis labels for better readability\n",
    "\n",
    "# Customize the plot (optional)\n",
    "plt.grid(axis='y')  # Add grid lines on the Y-axis\n",
    "plt.tight_layout()  # Adjust spacing between elements\n",
    "\n",
    "# Display the plot\n",
    "plt.show()"
   ]
  },
  {
   "cell_type": "code",
   "execution_count": null,
   "id": "fda4c576-7c70-4d86-986c-ec6cc4361eb0",
   "metadata": {},
   "outputs": [],
   "source": [
    "# Features and target variable\n",
    "X = df[['model_year']]\n",
    "y = df['price']\n",
    "\n",
    "# Calculate mutual information\n",
    "mi_scores = mutual_info_regression(X, y)\n",
    "mi_scores "
   ]
  },
  {
   "cell_type": "markdown",
   "id": "8734a1cb-f2be-4e61-a8de-4a7c08f6088c",
   "metadata": {},
   "source": [
    "# <span style='color: green;'>MILAGE</span>"
   ]
  },
  {
   "cell_type": "code",
   "execution_count": null,
   "id": "9c246abc-2895-4488-a3e0-cfbe7ca259b8",
   "metadata": {},
   "outputs": [],
   "source": [
    "plt.figure(figsize=(8, 6))  # Adjust figure size as needed \n",
    "plt.hist(df['milage'], bins=50, edgecolor='black')\n",
    "plt.xlabel('milage')\n",
    "plt.ylabel('Frequency')\n",
    "plt.title('Price Distribution')\n",
    "plt.xticks(rotation=90)  # Optional: Rotate x-axis labels for better readability\n",
    "# Customize the plot (optional)\n",
    "plt.grid(axis='y')  # Add grid lines on the Y-axis\n",
    "plt.tight_layout()  # Adjust spacing between elements\n",
    "\n",
    "# Display the plot\n",
    "plt.show()"
   ]
  },
  {
   "cell_type": "code",
   "execution_count": null,
   "id": "18bb7c05-59d2-4b0c-ba9c-0274fb485f36",
   "metadata": {},
   "outputs": [],
   "source": [
    "# Features and target variable\n",
    "X = df[['milage']]\n",
    "y = df['price']\n",
    "\n",
    "# Calculate mutual information\n",
    "mi_scores = mutual_info_regression(X, y)\n",
    "mi_scores "
   ]
  },
  {
   "cell_type": "code",
   "execution_count": null,
   "id": "42c45400-7118-412c-b30f-3ffb87ebb9a0",
   "metadata": {},
   "outputs": [],
   "source": [
    "sns.lmplot(x=\"milage\", y=\"price\", hue=\"fuel_type\", data=df, col=\"fuel_type\", col_wrap=2)"
   ]
  },
  {
   "cell_type": "code",
   "execution_count": null,
   "id": "ebf384d8-5a76-4772-bad0-346894a48ddf",
   "metadata": {},
   "outputs": [],
   "source": [
    "# Create a pairplot\n",
    "pairplot = sns.pairplot(df, hue=\"fuel_type\")\n",
    "\n",
    "# Save the pairplot to a figure\n",
    "pairplot.fig.savefig(\"pairplot.png\")\n",
    "\n",
    "# Load the saved figure\n",
    "fig, ax = plt.subplots(2, 8, figsize=(20, 10))\n",
    "\n",
    "# Remove axes for unused subplots\n",
    "for i in range(2):\n",
    "    for j in range(8):\n",
    "        ax[i, j].axis('off')\n",
    "\n",
    "# Manually add the pairplot to the first subplot\n",
    "img = plt.imread(\"pairplot.png\")\n",
    "ax[0, 0].imshow(img)\n",
    "ax[0, 0].axis('off')  # Turn off the axis\n",
    "\n",
    "plt.tight_layout()\n",
    "plt.show()"
   ]
  },
  {
   "cell_type": "markdown",
   "id": "e7ff0517-41b9-4fd3-9b34-3719dfb36b4a",
   "metadata": {},
   "source": [
    "# Correlation matrix for numerical columns with price"
   ]
  },
  {
   "cell_type": "code",
   "execution_count": null,
   "id": "b83317e8-5bea-4847-8d23-2d4ef959aa7b",
   "metadata": {},
   "outputs": [],
   "source": [
    "# Select non-numerical columns (categorical in this case)\n",
    "categorical_cols = df.select_dtypes(include=['object', 'category'])\n",
    "numeric_features = df.select_dtypes(include=['int64', 'float64'])\n",
    "# Calculate correlation matrix for categorical columns (if applicable)\n",
    "if not numeric_features.empty:\n",
    "  corr_matrix = numeric_features.corr(method='spearman')  # Spearman for categorical data\n",
    "  print(\"Correlation Matrix (numerical features):\")\n",
    "else:\n",
    "  print(\"No numerical columns found in the DataFrame for correlation.\")\n",
    "corr_matrix"
   ]
  },
  {
   "cell_type": "markdown",
   "id": "111b7446-4a2e-4d29-bb78-76ccc26a1df4",
   "metadata": {},
   "source": [
    "# Correlation matrix for categorical columns with price"
   ]
  },
  {
   "cell_type": "code",
   "execution_count": null,
   "id": "f927cec5-30b9-499a-9e47-157f739e350c",
   "metadata": {},
   "outputs": [],
   "source": [
    "import pandas as pd\n",
    "import numpy as np\n",
    "import matplotlib.pyplot as plt\n",
    "from scipy.stats import chi2_contingency\n",
    "\n",
    "\n",
    "# Define the function to calculate Cramér's V\n",
    "def cramers_v(x, y):\n",
    "    confusion_matrix = pd.crosstab(x, y)\n",
    "    chi2 = chi2_contingency(confusion_matrix)[0]\n",
    "    n = confusion_matrix.sum().sum()\n",
    "    phi2 = chi2 / n\n",
    "    r, k = confusion_matrix.shape\n",
    "    phi2corr = max(0, phi2 - ((k-1)*(r-1))/(n-1))    \n",
    "    rcorr = r - ((r-1)**2)/(n-1)\n",
    "    kcorr = k - ((k-1)**2)/(n-1)\n",
    "    return np.sqrt(phi2corr / min((kcorr-1), (rcorr-1)))\n",
    "\n",
    "# List of categorical columns\n",
    "categorical_columns = df.select_dtypes(include=['object']).columns.tolist()\n",
    "categorical_columns.append('price')\n",
    "# Initialize an empty DataFrame for the correlation matrix\n",
    "corr_matrix = pd.DataFrame(np.zeros((len(categorical_columns), len(categorical_columns))), \n",
    "                           index=categorical_columns, \n",
    "                           columns=categorical_columns)\n",
    "\n",
    "# Compute Cramér's V for each pair of categorical columns\n",
    "for col1 in categorical_columns:\n",
    "    for col2 in categorical_columns:\n",
    "        if col1 == col2:\n",
    "            corr_matrix.loc[col1, col2] = 1.0\n",
    "        else:\n",
    "            corr_matrix.loc[col1, col2] = cramers_v(df[col1], df[col2])\n",
    "\n",
    "corr_matrix"
   ]
  },
  {
   "cell_type": "markdown",
   "id": "c95f605f-4a78-41ca-bdf4-1a5f3ecd9a4c",
   "metadata": {},
   "source": [
    "# <span style='color: green;'>FUEL TYPE</span>"
   ]
  },
  {
   "cell_type": "markdown",
   "id": "3998aaf4-acbe-4e13-a542-3748fc0c9ea5",
   "metadata": {},
   "source": [
    "## Data cleaning for column: fuel_type"
   ]
  },
  {
   "cell_type": "code",
   "execution_count": null,
   "id": "18d389fb-fe25-47fc-85bc-1f9c68c1cadb",
   "metadata": {},
   "outputs": [],
   "source": [
    "plt.figure(figsize=(20, 6))  # Adjust figure size as needed \n",
    "plt.bar(df['fuel_type'], df['price'])  # X-axis: int_col, Y-axis: price\n",
    "plt.xlabel('fuel_type')\n",
    "plt.ylabel('Price')\n",
    "plt.title('Price Distribution by fuel_type')\n",
    "plt.xticks(rotation=90)  # Optional: Rotate x-axis labels for better readability\n",
    "\n",
    "# Customize the plot (optional)\n",
    "plt.grid(axis='y')  # Add grid lines on the Y-axis\n",
    "plt.tight_layout()  # Adjust spacing between elements\n",
    "\n",
    "# Display the plot\n",
    "plt.show()"
   ]
  },
  {
   "cell_type": "code",
   "execution_count": null,
   "id": "817eac7c-d3ce-4c84-8c97-24c6da6d39f7",
   "metadata": {},
   "outputs": [],
   "source": [
    "df['fuel_type'].value_counts()"
   ]
  },
  {
   "cell_type": "markdown",
   "id": "24f1995d-21b7-443a-9efe-64a47da8eb83",
   "metadata": {},
   "source": [
    "## Data cleaning for column: fuel_type"
   ]
  },
  {
   "cell_type": "code",
   "execution_count": null,
   "id": "41fd008b-2369-4c57-9825-2cbab790039a",
   "metadata": {},
   "outputs": [],
   "source": [
    "def replace_fuel(row):\n",
    "    if row['fuel_type'] == 'not supported':\n",
    "        match = re.search(r'(\\b\\w+ Fuel\\b)', row['engine'])\n",
    "        if match:\n",
    "            fuel_type = match.group(1).split()[0]\n",
    "            return fuel_type\n",
    "    elif row['fuel_type'] == '–':\n",
    "        return np.nan\n",
    "    return row['fuel_type']\n",
    "\n",
    "# Apply the function to the 'Fuel' column\n",
    "df['fuel_type'] = df.apply(replace_fuel, axis=1)"
   ]
  },
  {
   "cell_type": "code",
   "execution_count": null,
   "id": "17fb7b17-6933-4ea5-85b0-356e079a923f",
   "metadata": {},
   "outputs": [],
   "source": [
    "df['fuel_type'].value_counts()"
   ]
  },
  {
   "cell_type": "code",
   "execution_count": null,
   "id": "5f3f8d2f-d68a-44b2-a3a2-19583ffe4a1d",
   "metadata": {},
   "outputs": [],
   "source": [
    "# Set the plot's height and aspect ratio\n",
    "sns.relplot(x=\"fuel_type\", y=\"price\", data=df, height=5, aspect=2.5)\n",
    "\n",
    "# Rotate x-axis labels for better readability\n",
    "plt.xticks(rotation=90, ha='right')\n",
    "\n",
    "# Show the plot\n",
    "plt.show()"
   ]
  },
  {
   "cell_type": "code",
   "execution_count": null,
   "id": "1afb53f3-7ea4-4576-a31b-e636e1156b0e",
   "metadata": {},
   "outputs": [],
   "source": [
    "from sklearn.feature_selection import mutual_info_regression\n",
    "# Calculate mutual information for categorical variables\n",
    "def calculate_mutual_info(df, target):\n",
    "    categorical_columns = ['fuel_type']\n",
    "    mi = mutual_info_regression(pd.get_dummies(df[categorical_columns]), df[target])\n",
    "    mi_series = pd.Series(mi, index=pd.get_dummies(df[categorical_columns]).columns)\n",
    "    return mi_series\n",
    "\n",
    "mi_scores = calculate_mutual_info(df, 'price')\n",
    "mi_score = mi_scores.sum()\n",
    "mi_score"
   ]
  },
  {
   "cell_type": "markdown",
   "id": "c0e2dfb9-2f91-4bd6-bc05-1815f101f9d3",
   "metadata": {},
   "source": [
    "# <span style='color: green;'>ENGINE</span>"
   ]
  },
  {
   "cell_type": "code",
   "execution_count": null,
   "id": "86e4a756-587e-43a3-9d9c-94c87bf62f0e",
   "metadata": {
    "scrolled": true
   },
   "outputs": [],
   "source": [
    "df['engine_volume'].value_counts()"
   ]
  },
  {
   "cell_type": "markdown",
   "id": "7b3d2c13-f118-4528-bbfa-5d9c8d19be1a",
   "metadata": {},
   "source": [
    "## Data cleaning for column: engine"
   ]
  },
  {
   "cell_type": "code",
   "execution_count": null,
   "id": "0cc4b925-4b58-4f4e-b26b-420596176acc",
   "metadata": {},
   "outputs": [],
   "source": [
    "# Replace 'engine gasoline fuel' with an empty string\n",
    "df['engine'] = df['engine'].str.replace('Engine Gasoline Fuel', '', regex=False, case=False).str.strip()\n",
    "df['engine'] = df['engine'].str.replace('Engine Flex Fuel Capability', '', regex=False, case=False).str.strip() \n",
    "df['engine'] = df['engine'].str.replace('Engine Diesel Fuel', '', regex=False, case=False).str.strip() \n",
    "# Replace ' Liter' with 'L' and join with the previous string\n",
    "df['engine'] = df['engine'].str.replace(r'(\\d\\.\\d) Liter', r'\\1L', regex=True)"
   ]
  },
  {
   "cell_type": "code",
   "execution_count": null,
   "id": "c29ce0f1-24f0-4a4e-bd79-1249e6764082",
   "metadata": {},
   "outputs": [],
   "source": [
    "# Extract engine_power\n",
    "df['engine_power'] = df['engine'].str.extract(r'(\\d+\\.\\d+HP|\\d+HP)', expand=False)\n",
    "# Extract engine_volume\n",
    "df['engine_volume'] = df['engine'].str.extract(r'(\\d+\\.\\d+L|\\d+L)', expand=False)"
   ]
  },
  {
   "cell_type": "code",
   "execution_count": null,
   "id": "d4cfb7be-f06b-4b22-b2d1-eec27faed202",
   "metadata": {},
   "outputs": [],
   "source": [
    "# Handle special case for entries like \"6.7 L/406\"\n",
    "special_pattern = re.compile(r'(\\d+\\.\\d+\\s*L/\\d+)')\n",
    "special_volumes = df['engine'].str.extract(special_pattern, expand=False)\n",
    "df['engine_volume'] = df['engine_volume'].fillna(special_volumes.str.extract(r'(\\d+\\.\\d+\\s*L)', expand=False))"
   ]
  },
  {
   "cell_type": "code",
   "execution_count": null,
   "id": "39eb1e70-832e-4997-b948-e91ebede9a6d",
   "metadata": {},
   "outputs": [],
   "source": [
    "# Remove extracted parts from engine column\n",
    "df['engine'] = df['engine'].str.replace(r'(\\d+\\.\\d+HP|\\d+HP)', '', regex=True)\n",
    "df['engine'] = df['engine'].str.replace(r'(\\d+\\.\\d+L|\\d+L)', '', regex=True)\n",
    "df['engine'] = df['engine'].str.replace(special_pattern, '', regex=True)\n",
    "\n",
    "# Clean up extra spaces\n",
    "df['engine'] = df['engine'].str.strip()"
   ]
  },
  {
   "cell_type": "code",
   "execution_count": null,
   "id": "f530359e-3ae9-414f-babb-d013e77efc2c",
   "metadata": {},
   "outputs": [],
   "source": [
    "df[['engine_power', 'engine_volume', 'engine']].head()"
   ]
  },
  {
   "cell_type": "code",
   "execution_count": null,
   "id": "c7da2f98-91fd-47d7-8179-c436ea9517c5",
   "metadata": {},
   "outputs": [],
   "source": [
    "# Define a function to extract the cylinder part and update the engine column\n",
    "def extract_engine_cylinder(engine_str):\n",
    "    if pd.isna(engine_str):\n",
    "        return np.nan, engine_str\n",
    "    \n",
    "    # Regular expression to find strings that start with a letter followed by a number\n",
    "    match = re.match(r'^([A-Za-z]\\d+)', engine_str)\n",
    "    if match:\n",
    "        engine_cylinder = match.group(1)\n",
    "        new_engine_str = engine_str[len(engine_cylinder):].strip()\n",
    "        return engine_cylinder, new_engine_str\n",
    "    else:\n",
    "        return np.nan, engine_str\n",
    "\n",
    "# Apply the function to the 'engine' column using .loc to avoid the warning\n",
    "df['engine_cylinder'], df['engine'] = zip(*df['engine'].apply(extract_engine_cylinder))"
   ]
  },
  {
   "cell_type": "code",
   "execution_count": null,
   "id": "550be15e-3f51-439b-8e86-8164e491f1e3",
   "metadata": {},
   "outputs": [],
   "source": [
    "'''\n",
    "The function attempts to extract the number of cylinders from the 'engine' column value  and populate the missing values in 'engine_cylinder' if possible. \n",
    "It also updates the 'engine' column value to remove the extracted cylinder count.\n",
    " '''\n",
    "def update_engine_cylinder(row):\n",
    "    if pd.isna(row['engine_cylinder']):\n",
    "        engine_str = str(row['engine'])  # Convert to string to avoid errors\n",
    "        match = re.search(r'(\\d+)\\s+Cylinder', engine_str)\n",
    "        if match:\n",
    "            row['engine_cylinder'] = int(match.group(1))\n",
    "            row['engine'] = re.sub(r'\\d+\\s+Cylinder', 'Cylinder', engine_str)\n",
    "    return row\n",
    "\n",
    "# Apply the function to each row\n",
    "df = df.apply(update_engine_cylinder, axis=1)"
   ]
  },
  {
   "cell_type": "code",
   "execution_count": null,
   "id": "70c09797-7fe7-4c8e-b868-1d8da614e6aa",
   "metadata": {},
   "outputs": [],
   "source": [
    "def clean_string(s):\n",
    "    if isinstance(s, str):  # Check if s is a string\n",
    "        s = s.replace('PDI', 'GDI')  # Replace 'PDI' with 'GDI'\n",
    "        s = re.sub(r'\\d+V ', '', s)  # Remove digits followed by 'V' and the trailing space\n",
    "    return s\n",
    "\n",
    "# Apply the function to the DataFrame column\n",
    "df['engine'] = df['engine'].apply(clean_string)"
   ]
  },
  {
   "cell_type": "code",
   "execution_count": null,
   "id": "b9c4a6e1-de0d-40ab-9580-75791116c6bd",
   "metadata": {},
   "outputs": [],
   "source": [
    "df[['engine_power', 'engine_volume', 'engine_cylinder' ,'engine']].head()"
   ]
  },
  {
   "cell_type": "code",
   "execution_count": null,
   "id": "d1cb2502-4588-4850-948b-0d6db643fd0b",
   "metadata": {},
   "outputs": [],
   "source": [
    "df[['engine_power', 'engine_volume', 'engine_cylinder' ,'engine']].isnull().sum()"
   ]
  },
  {
   "cell_type": "code",
   "execution_count": null,
   "id": "d370f7f0-f140-4c6a-98ca-1ae71d0f94cd",
   "metadata": {},
   "outputs": [],
   "source": [
    "# Function to update the 'engine' and 'cylinder_shape' columns\n",
    "def update_engine_cylinder(row):\n",
    "    # Initialize cylinder_shape\n",
    "    row['cylinder_shape'] = ''\n",
    "\n",
    "    # Handle the engine_cylinder column\n",
    "    if pd.notna(row['engine_cylinder']):\n",
    "        # Extract letters and digits\n",
    "        match = re.match(r'([A-Za-z]*)(\\d+)', str(row['engine_cylinder']))\n",
    "        if match:\n",
    "            letters = match.group(1)\n",
    "            digits = match.group(2)\n",
    "            \n",
    "            # Update the 'cylinder_shape' column with the letters\n",
    "            row['cylinder_shape'] = letters\n",
    "            \n",
    "            # Update the 'engine_cylinder' column with the digits\n",
    "            row['engine_cylinder'] = digits\n",
    "\n",
    "    # Handle the engine column for 'straight' and 'flat'\n",
    "    if pd.notna(row['engine']):\n",
    "        engine_lower = row['engine'].lower()\n",
    "        if 'straight' in engine_lower:\n",
    "            row['cylinder_shape'] = 'Straight'\n",
    "            row['engine'] = re.sub(r'straight', '', row['engine'], flags=re.IGNORECASE).strip()\n",
    "        elif 'flat' in engine_lower:\n",
    "            row['cylinder_shape'] = 'Flat'\n",
    "            row['engine'] = re.sub(r'flat', '', row['engine'], flags=re.IGNORECASE).strip()\n",
    "\n",
    "    return row\n",
    "\n",
    "# Apply the function to each row\n",
    "df = df.apply(update_engine_cylinder, axis=1)"
   ]
  },
  {
   "cell_type": "code",
   "execution_count": null,
   "id": "954155f2-5937-4e16-b8fd-2492ba319315",
   "metadata": {},
   "outputs": [],
   "source": [
    "df[['engine_power', 'engine_volume', 'engine_cylinder' ,'cylinder_shape', 'engine']].isnull().sum()"
   ]
  },
  {
   "cell_type": "code",
   "execution_count": null,
   "id": "ebb046f3-cd0a-4785-9465-1723103a7928",
   "metadata": {},
   "outputs": [],
   "source": [
    "df['engine'] = df['engine'].str.replace('Gasoline', 'Gas', regex=False, case=False)\n",
    "df['engine'] = df['engine'].str.replace('Cylinder ', '', regex=False, case=False)\n",
    "df['engine'] = df['engine'].str.replace('Cylinder', '', regex=False, case=False)\n",
    "df['engine'] = df['engine'].str.replace('16V', '', regex=False, case=False)\n",
    "df['engine'] = df['engine'].str.replace('Engine ', '', regex=False, case=False)\n",
    "df['engine'] = df['engine'].str.replace('–', '', regex=False, case=False)\n",
    "df['engine'] = df['engine'].str.replace('120 AH', '', regex=False, case=False)\n",
    "df['engine'] = df['engine'].str.replace(' Flexible Fuel', '', regex=False, case=False)\n",
    "df['engine'] = df['engine'].str.replace(' Hydrogen Fuel', '', regex=False, case=False)\n",
    "#df['engine'] = df['engine'].str.replace('Twin', '', regex=False, case=False)\n",
    "#df['fuel_type'] = df['fuel_type'].str.replace('–', '', regex=False, case=False)"
   ]
  },
  {
   "cell_type": "code",
   "execution_count": null,
   "id": "00f85502-ec3e-4452-a32e-e9f6fc9e31c9",
   "metadata": {},
   "outputs": [],
   "source": [
    "df['cylinder_shape'].value_counts()"
   ]
  },
  {
   "cell_type": "code",
   "execution_count": null,
   "id": "a7a7601b-71f0-4a22-a9ed-754a64d79c6b",
   "metadata": {},
   "outputs": [],
   "source": [
    "df['engine_power'] = df['engine_power'].str.replace('HP', '', regex=True).astype(float)\n",
    "df['engine_volume'] = df['engine_volume'].str.replace('L', '', regex=True).astype(float)"
   ]
  },
  {
   "cell_type": "code",
   "execution_count": null,
   "id": "78e29046-3548-4fff-8c19-0eee61df6829",
   "metadata": {},
   "outputs": [],
   "source": [
    "#'''\n",
    "new_order = ['id', 'brand', 'model', 'model_year', 'milage', 'fuel_type', \n",
    "             'engine_power', 'engine_volume', 'engine_cylinder', 'cylinder_shape', 'engine',\n",
    "             'transmission', 'ext_col', 'int_col', 'accident', 'clean_title', 'price']\n",
    "'''\n",
    "\n",
    "new_order = ['id', 'brand', 'model', 'model_year', 'milage', 'fuel_type', \n",
    "             'engine_power', 'engine_volume', 'engine_cylinder', 'cylinder_shape',\n",
    "             'transmission', 'ext_col', 'int_col', 'accident', 'clean_title']\n",
    "'''\n",
    "df = df[new_order]  # Rearrange columns based on the new order"
   ]
  },
  {
   "cell_type": "code",
   "execution_count": null,
   "id": "d1642ce2-34fe-4aa9-a167-f34a47810f5d",
   "metadata": {},
   "outputs": [],
   "source": [
    "df.isnull().sum()"
   ]
  },
  {
   "cell_type": "code",
   "execution_count": null,
   "id": "0fd65934-493d-4a79-b9e2-03717cddd8be",
   "metadata": {},
   "outputs": [],
   "source": [
    "# Set the plot's height and aspect ratio\n",
    "sns.relplot(x=\"engine_power\", y=\"price\", data=df, height=5, aspect=2.5)\n",
    "\n",
    "# Rotate x-axis labels for better readability\n",
    "plt.xticks(rotation=90, ha='right')\n",
    "\n",
    "# Show the plot\n",
    "plt.show()"
   ]
  },
  {
   "cell_type": "code",
   "execution_count": null,
   "id": "c308489c-986e-4b29-bca8-31a1ca9d3fcd",
   "metadata": {},
   "outputs": [],
   "source": [
    "# Set the plot's height and aspect ratio\n",
    "sns.relplot(x=\"engine_volume\", y=\"price\", data=df, height=5, aspect=2.5)\n",
    "\n",
    "# Rotate x-axis labels for better readability\n",
    "plt.xticks(rotation=90, ha='right')\n",
    "\n",
    "# Show the plot\n",
    "plt.show()"
   ]
  },
  {
   "cell_type": "code",
   "execution_count": null,
   "id": "8f4c3e7f-6d4f-490f-83f3-7ea8c49b0a64",
   "metadata": {},
   "outputs": [],
   "source": [
    "# Set the plot's height and aspect ratio\n",
    "sns.relplot(x=\"engine_cylinder\", y=\"price\", data=df, height=5, aspect=2.5)\n",
    "\n",
    "# Rotate x-axis labels for better readability\n",
    "plt.xticks(rotation=90, ha='right')\n",
    "\n",
    "# Show the plot\n",
    "plt.show()"
   ]
  },
  {
   "cell_type": "code",
   "execution_count": null,
   "id": "75044ac1-cc67-44a6-9f64-b26d17989d88",
   "metadata": {},
   "outputs": [],
   "source": [
    "# Set the plot's height and aspect ratio\n",
    "sns.relplot(x=\"cylinder_shape\", y=\"price\", data=df, height=5, aspect=2.5)\n",
    "\n",
    "# Rotate x-axis labels for better readability\n",
    "plt.xticks(rotation=90, ha='right')\n",
    "\n",
    "# Show the plot\n",
    "plt.show()"
   ]
  },
  {
   "cell_type": "code",
   "execution_count": null,
   "id": "a221a3fa-90ae-45c4-b6f0-c7d9b6a62d4c",
   "metadata": {},
   "outputs": [],
   "source": [
    "# Set the plot's height and aspect ratio\n",
    "sns.relplot(x=\"engine\", y=\"price\", data=df, height=5, aspect=2.5)\n",
    "\n",
    "# Rotate x-axis labels for better readability\n",
    "plt.xticks(rotation=90, ha='right')\n",
    "\n",
    "# Show the plot\n",
    "plt.show()"
   ]
  },
  {
   "cell_type": "markdown",
   "id": "73cd0d57-8167-4895-8feb-eed7a2a771eb",
   "metadata": {},
   "source": [
    "# <span style='color: green;'>TRANSMISSION</span>"
   ]
  },
  {
   "cell_type": "code",
   "execution_count": null,
   "id": "98cb83f1-5f4c-4b76-af1a-1e6330287a44",
   "metadata": {},
   "outputs": [],
   "source": [
    "# Get value counts\n",
    "value_counts = df['transmission'].value_counts()\n",
    "\n",
    "# Create bar chart\n",
    "plt.figure(figsize=(8, 6))\n",
    "value_counts.plot(kind='bar', color=['red', 'green', 'blue', 'purple'])  # Optional: customize colors\n",
    "plt.xlabel('Color')\n",
    "plt.ylabel('Count')\n",
    "plt.title('Distribution of transmission')\n",
    "plt.xticks(rotation=90)  # Optional: Rotate x-axis labels for readability (if many categories)\n",
    "plt.tight_layout()\n",
    "plt.show()"
   ]
  },
  {
   "cell_type": "code",
   "execution_count": null,
   "id": "e15970ab-7eb6-45ff-8cfa-627bf53e35bd",
   "metadata": {
    "scrolled": true
   },
   "outputs": [],
   "source": [
    "plt.figure(figsize=(20, 6))  # Adjust figure size as needed \n",
    "plt.bar(df['transmission'], df['price'])  # X-axis: int_col, Y-axis: price\n",
    "plt.xlabel('transmission')\n",
    "plt.ylabel('Price')\n",
    "plt.title('Price Distribution by transmission')\n",
    "plt.xticks(rotation=90)  # Optional: Rotate x-axis labels for better readability\n",
    "\n",
    "# Customize the plot (optional)\n",
    "plt.grid(axis='y')  # Add grid lines on the Y-axis\n",
    "plt.tight_layout()  # Adjust spacing between elements\n",
    "\n",
    "# Display the plot\n",
    "plt.show()"
   ]
  },
  {
   "cell_type": "code",
   "execution_count": null,
   "id": "f26431f0-d502-4938-92a8-7610da212a60",
   "metadata": {},
   "outputs": [],
   "source": [
    "df['transmission'].describe()\n",
    "df['transmission'].isnull().sum()"
   ]
  },
  {
   "cell_type": "code",
   "execution_count": null,
   "id": "527b16a9-cd00-4e3f-a25d-cbc563f960a3",
   "metadata": {},
   "outputs": [],
   "source": [
    "df['transmission'].str.contains('CVT').sum()"
   ]
  },
  {
   "cell_type": "markdown",
   "id": "e6777e76-6de6-42a0-abd9-4cfc4a97f86d",
   "metadata": {},
   "source": [
    "## Data cleaning for column: Transmission"
   ]
  },
  {
   "cell_type": "code",
   "execution_count": null,
   "id": "a20e8dd0-83f8-4979-b235-5899f50261e4",
   "metadata": {
    "scrolled": true
   },
   "outputs": [],
   "source": [
    "# Function to extract the number of gears\n",
    "def extract_gears(transmission):\n",
    "    if 'CVT' in transmission:\n",
    "        return 0\n",
    "\n",
    "    match = re.search(r'(\\d+)[-\\s]?Speed', transmission, re.IGNORECASE)\n",
    "    return int(match.group(1)) if match else np.nan\n",
    "\n",
    "# Apply the function to the transmission column\n",
    "df['gears'] = df['transmission'].apply(extract_gears)"
   ]
  },
  {
   "cell_type": "code",
   "execution_count": null,
   "id": "16cd2bee-f389-431e-a853-66696b726370",
   "metadata": {},
   "outputs": [],
   "source": [
    "# Insert 'Gears' column before 'Transmission' column\n",
    "cols = df.columns.tolist()\n",
    "cols.insert(cols.index('transmission'), cols.pop(cols.index('gears')))\n",
    "df = df[cols]"
   ]
  },
  {
   "cell_type": "code",
   "execution_count": null,
   "id": "b0a0e252-be92-4bb8-9107-3d2dbe198d74",
   "metadata": {},
   "outputs": [],
   "source": [
    "df['transmission'].str.contains('Speed').sum() + df['transmission'].str.contains('CVT').sum()"
   ]
  },
  {
   "cell_type": "code",
   "execution_count": null,
   "id": "a2b0a4f4-1812-4293-8d5e-663df7de2c74",
   "metadata": {},
   "outputs": [],
   "source": [
    "df.isnull().sum()"
   ]
  },
  {
   "cell_type": "code",
   "execution_count": null,
   "id": "0f09f762-c1a4-4da4-adc6-1a3c09688390",
   "metadata": {},
   "outputs": [],
   "source": [
    "#df[df['transmission'] == '6-Speed M/T'].head()\n",
    "#df[['gears','transmission']].value_counts()\n",
    "\n",
    "# Group by 'transmission' and aggregate based on 'gears'\n",
    "grouped_df = df.groupby(['transmission', 'gears']).agg({\n",
    "    'price': ['sum', 'mean', 'std', 'count']  # Example aggregations: sum, mean, std, count\n",
    "}).reset_index()\n",
    "\n",
    "# Flattening the column names\n",
    "grouped_df.columns = ['transmission', 'gears', 'total_price', 'average_price', 'price_std', 'count']\n",
    "\n",
    "# Display the grouped DataFrame\n",
    "grouped_df"
   ]
  },
  {
   "cell_type": "code",
   "execution_count": null,
   "id": "300eb04e-78c9-4e21-894c-eeece8227373",
   "metadata": {},
   "outputs": [],
   "source": [
    "# Updated mapping of column: transmission\n",
    "transmission_map = {\n",
    "    'Automatic': [\n",
    "        'A/T', '8-Speed A/T', '6-Speed A/T', '7-Speed A/T', '10-Speed A/T', '8-Speed Automatic', '5-Speed A/T', '9-Speed A/T', '4-Speed A/T', \n",
    "        '10-Speed Automatic', '6-Speed Automatic', 'Automatic', '9-Speed Automatic', '7-Speed Automatic', '5-Speed Automatic',  \n",
    "        '1-Speed A/T', '8-Speed Automatic with Auto-Shift', '6-Speed Automatic with Auto-Shift', '4-Speed Automatic', '7-Speed', \n",
    "        '2-Speed A/T', '9-Speed Automatic with Auto-Shift', '1-Speed Automatic', '6 Speed At/Mt', '7-Speed Automatic with Auto-Shift'\n",
    "    ],\n",
    "    'Manual': [\n",
    "        '6-Speed M/T', '5-Speed M/T', '7-Speed M/T', '6-Speed Manual', '7-Speed Manual', '8-Speed Manual', '6 Speed Mt', 'M/T'\n",
    "    ],\n",
    "    'CVT': [\n",
    "        'CVT Transmission', 'Automatic CVT', 'CVT-F', 'F', 'Variable'\n",
    "    ],\n",
    "    'Dual-Clutch': [\n",
    "        'Transmission w/Dual Shift Mode', '7-Speed DCT Automatic'\n",
    "    ],\n",
    "    'Overdrive': [\n",
    "        'Transmission Overdrive Switch', '6-Speed Electronically Controlled Automatic with O', '10-Speed Automatic with Overdrive'\n",
    "    ],\n",
    "    \n",
    "}\n",
    "\n",
    "# Function to map transmission types\n",
    "def map_transmissions(transmission):\n",
    "    if transmission == '–':\n",
    "        return np.nan\n",
    "    if transmission ==  'SCHEDULED FOR OR IN PRODUCTION':\n",
    "        return np.nan\n",
    "#    if transmission ==  '6-Speed':\n",
    "#        return np.nan\n",
    "    for key, values in transmission_map.items():\n",
    "        if transmission in values:\n",
    "            return key\n",
    "    return 'other'\n",
    "    \n",
    "# Assuming `df` is the DataFrame for the transmission column\n",
    "df['transmission'] = df['transmission'].apply(map_transmissions)"
   ]
  },
  {
   "cell_type": "code",
   "execution_count": null,
   "id": "9f9590ab-de4a-4715-a05a-74fe0f6765b5",
   "metadata": {},
   "outputs": [],
   "source": [
    "# Get value counts\n",
    "value_counts = df['transmission'].value_counts()\n",
    "\n",
    "# Create bar chart\n",
    "plt.figure(figsize=(8, 6))\n",
    "value_counts.plot(kind='bar', color=['red', 'green', 'blue', 'purple'])  # Optional: customize colors\n",
    "plt.xlabel('Color')\n",
    "plt.ylabel('Count')\n",
    "plt.title('Distribution of transmission')\n",
    "plt.xticks(rotation=90)  # Optional: Rotate x-axis labels for readability (if many categories)\n",
    "plt.tight_layout()\n",
    "plt.show()"
   ]
  },
  {
   "cell_type": "code",
   "execution_count": null,
   "id": "a144a478-cca4-44d3-9c35-2332a05db863",
   "metadata": {},
   "outputs": [],
   "source": [
    "# Fill NaN values in transmission with a placeholder\n",
    "#df['transmission'].fillna('Value Missing', inplace=True)\n",
    "\n",
    "plt.figure(figsize=(20, 6))  # Adjust figure size as needed \n",
    "plt.bar(df['transmission'], df['price'])  # X-axis: int_col, Y-axis: price\n",
    "plt.xlabel('transmission')\n",
    "plt.ylabel('Price')\n",
    "plt.title('Price Distribution by transmission')\n",
    "plt.xticks(rotation=90)  # Optional: Rotate x-axis labels for better readability\n",
    "\n",
    "# Customize the plot (optional)\n",
    "plt.grid(axis='y')  # Add grid lines on the Y-axis\n",
    "plt.tight_layout()  # Adjust spacing between elements\n",
    "\n",
    "# Display the plot\n",
    "plt.show()"
   ]
  },
  {
   "cell_type": "code",
   "execution_count": null,
   "id": "17d96582-2881-4782-8539-8cd0e2787dc8",
   "metadata": {
    "scrolled": true
   },
   "outputs": [],
   "source": [
    "plt.figure(figsize=(20, 6))  # Adjust figure size as needed \n",
    "plt.bar(df['gears'], df['price'])  # X-axis: int_col, Y-axis: price\n",
    "plt.xlabel('gears')\n",
    "plt.ylabel('Price')\n",
    "plt.title('Price Distribution by gears')\n",
    "plt.xticks(rotation=90)  # Optional: Rotate x-axis labels for better readability\n",
    "\n",
    "# Customize the plot (optional)\n",
    "plt.grid(axis='y')  # Add grid lines on the Y-axis\n",
    "plt.tight_layout()  # Adjust spacing between elements\n",
    "\n",
    "# Display the plot\n",
    "plt.show()"
   ]
  },
  {
   "cell_type": "code",
   "execution_count": null,
   "id": "b4838ebd-9b87-4d5b-a6ea-1388544cbe61",
   "metadata": {},
   "outputs": [],
   "source": [
    "# Fill NaN values in transmission with a placeholder\n",
    "df['gears'].fillna('Value Missing', inplace=True)"
   ]
  },
  {
   "cell_type": "code",
   "execution_count": null,
   "id": "c70d1fff-0881-4e6c-8b65-a1d0f553043e",
   "metadata": {},
   "outputs": [],
   "source": [
    "from sklearn.feature_selection import mutual_info_regression\n",
    "# Calculate mutual information for categorical variables\n",
    "def calculate_mutual_info(df, target):\n",
    "    categorical_columns = ['gears']\n",
    "    mi = mutual_info_regression(pd.get_dummies(df[categorical_columns]), df[target])\n",
    "    mi_series = pd.Series(mi, index=pd.get_dummies(df[categorical_columns]).columns)\n",
    "    return mi_series\n",
    "\n",
    "mi_scores = calculate_mutual_info(df, 'price')\n",
    "mi_score = mi_scores.sum()\n",
    "mi_score"
   ]
  },
  {
   "cell_type": "code",
   "execution_count": null,
   "id": "9d8105b6-4f77-404c-9f7d-ba5fa51aab57",
   "metadata": {
    "scrolled": true
   },
   "outputs": [],
   "source": [
    "df['gears'].isnull().sum()"
   ]
  },
  {
   "cell_type": "markdown",
   "id": "57b0aa8b-d7d9-4464-9716-01fe6356c055",
   "metadata": {},
   "source": [
    "# <span style='color: green;'>ACCIDENT</span>"
   ]
  },
  {
   "cell_type": "code",
   "execution_count": null,
   "id": "76c23596-53a0-4091-9be1-acdbf1b7dc88",
   "metadata": {},
   "outputs": [],
   "source": [
    "# Replace values in 'accident' column\n",
    "df['accident'] = df['accident'].replace({'None reported': 0, 'At least 1 accident or damage reported': 1})"
   ]
  },
  {
   "cell_type": "code",
   "execution_count": null,
   "id": "93bd9774-0235-40a8-8369-ad8c1fff5762",
   "metadata": {},
   "outputs": [],
   "source": [
    "df['accident'].value_counts()"
   ]
  },
  {
   "cell_type": "markdown",
   "id": "3d143813-2b87-496c-b16e-10556496ac15",
   "metadata": {},
   "source": [
    "# <span style='color: green;'>EXTERNAL COLOR</span>"
   ]
  },
  {
   "cell_type": "code",
   "execution_count": null,
   "id": "60cbb0d1-6366-4fba-879a-ba83ba434a3e",
   "metadata": {},
   "outputs": [],
   "source": [
    "df['ext_col'].value_counts()"
   ]
  },
  {
   "cell_type": "code",
   "execution_count": null,
   "id": "a1c844bd-cc27-49a3-909e-15377982cf91",
   "metadata": {},
   "outputs": [],
   "source": [
    "df[df['ext_col'] ==  'Rosso Corsa']"
   ]
  },
  {
   "cell_type": "code",
   "execution_count": null,
   "id": "6b2dacb3-4c2a-45c7-93b1-6f575b6c7f7b",
   "metadata": {},
   "outputs": [],
   "source": [
    "# Set the plot's height and aspect ratio\n",
    "sns.relplot(x=\"price\", y=\"ext_col\", data=df, height=40, aspect=0.25)\n",
    "\n",
    "# Adjust the y-ticks to add more spacing\n",
    "ext_col = df['ext_col'].unique()\n",
    "positions = range(len(ext_col))\n",
    "\n",
    "plt.yticks(ticks=positions, labels=ext_col, rotation=0, fontsize=12)  # Adjust fontsize and rotation as needed\n",
    "\n",
    "\n",
    "# Show the plot\n",
    "plt.show()"
   ]
  },
  {
   "cell_type": "code",
   "execution_count": null,
   "id": "f41ba2d9-65ca-4774-8b7e-e5b8de92ab0b",
   "metadata": {},
   "outputs": [],
   "source": [
    "# Mapping of synonymous colors for 'ext_col' columns\n",
    "color_mapping = {\n",
    "    'Black': [\n",
    "        'Black', 'Agate Black Metallic', 'Black Clearcoat', 'Diamond Black', 'Jet Black', 'Midnight Black', 'Ebony Black',\n",
    "        'Deep Black Pearl Effect', 'Black Obsidian', 'Onyx Black', 'Black Raven', 'Brilliant Black', 'Black Cherry', 'Shadow Black',\n",
    "        'Ebony Twilight Metallic', 'Jet Black Mica', 'Dark Matter Metallic', 'Black Sapphire Metallic', 'Midnight Black Metallic',\n",
    "        'Beluga Black', 'Mosaic Black Metallic', 'Obsidian Black Metallic', 'DB Black Clearcoat', 'Santorini Black Metallic',\n",
    "        'Mythos Black Metallic', 'Vik Black', 'Manhattan Noir Metallic', 'Stellar Black Metallic', 'Santorini Black', 'Magnetite Black Metallic',\n",
    "        'Nero Daytona', 'Majestic Black Pearl', 'Crystal Black Pearl', 'Santorin Black', 'Black Noir Pearl', 'Vulcano Black Metallic', 'Ultra Black',\n",
    "        'Mythos Black', 'Super Black', 'Phantom Black Pearl Effect / Black Roof', 'Orca Black Metallic'\n",
    "    ],\n",
    "    'White': [\n",
    "        'White', 'Bright White Clearcoat', 'Summit White', 'Snowflake White Pearl', 'Glacial White Pearl', 'White Frost Tri-Coat',\n",
    "        'White Diamond Tri-Coat', 'Alpine White', 'Oxford White', 'Ultra White', 'Super White', 'White Knuckle Clearcoat', 'Frozen White',\n",
    "        'Snow White Pearl', 'White Clearcoat', 'Matte White', 'White Platinum Tri-Coat Metallic', 'Lunare White Metallic', 'Snowflake White Pearl Metallic',\n",
    "        'Alta White', 'Glacier White Metallic', 'Arctic White', 'Dazzling White', 'Pristine White', 'Fuji White', 'Ibis White', 'Pearl White', 'Emin White',\n",
    "        'Glacier White', 'designo Diamond White', 'Mineral White', 'Quartz White'\n",
    "    ],\n",
    "    'Gray': [\n",
    "        'Gray', 'Shadow Gray Metallic', 'Dark Gray Metallic', 'Machine Gray Metallic', 'Polymetal Gray Metallic', 'Magnetic Metallic',\n",
    "        'Satin Steel Metallic', 'Gun Metallic', 'Carbonized Gray Metallic', 'Platinum Gray Metallic', 'Graphite Gray Metallic',\n",
    "        'Daytona Gray', 'Maximum Steel Metallic', 'Nightfall Gray Metallic', 'Eiger Grey', 'Dark Slate Metallic', 'Stone Gray Metallic', 'Tempest',\n",
    "        'Magnetite Gray Metallic', 'Designo Magno Matte', 'Volcano Grey Metallic', 'Dark Graphite Metallic', 'Quartzite Grey Metallic',\n",
    "        'Carpathian Grey Premium Metallic', 'Rift Metallic', 'Baltic Gray', 'Portofino Gray', 'Moonlight Cloud', 'Carpathian Grey', 'Silver Mist', \n",
    "        'Lunar Silver Metallic', 'Graphite Grey Metallic', 'Selenite Grey Metallic', 'Selenite Gray Metallic', 'Kemora Gray Metallic', \n",
    "        'Magnetic Gray Metallic', 'Brands Hatch Gray Metallic'\n",
    "    ],\n",
    "    'Silver': [\n",
    "        'Silver', 'Silver Ice Metallic', 'Iconic Silver Metallic', 'Tungsten Metallic', 'Billet Silver Metallic Clearcoat',\n",
    "        'Brilliant Silver Metallic', 'Atomic Silver', 'Blade Silver Metallic', 'Silver Radiance', 'Ingot Silver Metallic',\n",
    "        'Silver Flare Metallic', 'Sonic Silver Metallic', 'Silver Zynith', 'Iridium Metallic', 'Ice Silver Metallic', 'Shimmering Silver',\n",
    "        'Glacier Silver Metallic', 'Quicksilver Metallic', 'Cirrus Silver Metallic', 'Titanium Silver', 'Sparkling Silver', 'Ironman Silver'\n",
    "    ],\n",
    "    'Blue': [\n",
    "        'Blue', 'Patriot Blue Pearlcoat', 'Antimatter Blue Metallic', 'Dark Moon Blue Metallic', 'China Blue', 'Imperial Blue Metallic',\n",
    "        'Blueprint', 'Nautical Blue Pearl', 'Pacific Blue', 'Blue Reflex Mica', 'Twilight Blue Metallic', 'Deep Crystal Blue Mica',\n",
    "        'Stormy Sea', 'Horizon Blue', 'Glacier Blue Metallic', 'Northsky Blue Metallic', 'Phytonic Blue Metallic', 'Manhattan Blue Metallic',\n",
    "        'Santorini Blue', 'Blu', 'Pacific Blue Metallic', 'Bayside Blue', 'Blue Caelum', 'Gentian Blue Metallic', 'Kinetic Blue', 'Vega Blue', 'Navarre Blue',\n",
    "        'Deep Blue Metallic', 'Blue Metallic', 'Caspian Blue', 'Balloon White'\n",
    "    ],\n",
    "    'Red': [\n",
    "        'Red', 'Delmonico Red Pearlcoat', 'Soul Red Crystal Metallic', 'Firecracker Red Clearcoat', 'Redline Red', 'Velvet Red Pearlcoat',\n",
    "        'Crimson Red Tintcoat', 'Rich Garnet Metallic', 'Sting Gray Clearcoat', 'Tango Red Metallic', 'Hyper Red', 'Maroon',\n",
    "        'Red Quartz Tintcoat', 'Ruby Red Metallic', 'Red Obsession', 'Garnet Red Metallic', 'Flame Red Clearcoat', 'Go Mango!',\n",
    "        'Radiant Red Metallic II', 'Octane Red Pearlcoat', 'Siren Red Tintcoat', 'Rosso Mars Metallic', 'Rosso Corsa', 'Rapid Red Metallic Tinted Clearcoat',\n",
    "        'Cayenne Red Tintcoat', 'Remington Red Metallic', 'Sangria Red', 'Ruby Flare Pearl', 'Rosso', 'Matador Red Metallic'\n",
    "    ],\n",
    "    'Green': [\n",
    "        'Green', 'Lizard Green', 'Isle of Man Green Metallic', 'Forest Green', 'Black Forest Green', 'Jungle Green', 'Dark Moss', 'Verde'\n",
    "    ],\n",
    "    'Gold': ['Gold'],\n",
    "    'Beige': [\n",
    "        'Beige', 'Cobra Beige Metallic', 'Tan', 'Sandstone Metallic'\n",
    "    ],\n",
    "    'Brown': ['Brown', 'Kodiak Brown Metallic'],\n",
    "    'Orange': [\n",
    "        'Orange', 'Go Mango!', 'Hellayella Clearcoat', 'Volcanic Orange', 'Burnished Bronze Metallic'\n",
    "    ],\n",
    "    'Yellow': ['Yellow'],\n",
    "    'Purple': ['Purple'],\n",
    "    'Pink': ['Pink'],\n",
    "    'White': ['White', 'Alfa White', 'Iridescent Pearl Tricoat'],\n",
    "    'Other': ['C / C', 'Metallic', 'Python Green', 'Ametrin Metallic', 'Ember Pearlcoat', 'Lunar Rock', 'Custom Color', 'designo Diamond White']\n",
    "}\n",
    "\n",
    "# Function to map colors\n",
    "def map_colors(color):\n",
    "    for key, values in color_mapping.items():\n",
    "        if color in values:\n",
    "            return key\n",
    "        if color == '–':\n",
    "            return 'NaN'\n",
    "    return 'Other'\n",
    "\n",
    "# Apply the mapping function\n",
    "df['ext_col'] = df['ext_col'].apply(map_colors)"
   ]
  },
  {
   "cell_type": "markdown",
   "id": "9182bcaa-484c-4d1c-ac07-ecd7a741fa93",
   "metadata": {},
   "source": [
    "# <span style='color: green;'>INTERNAL COLOR</span>"
   ]
  },
  {
   "cell_type": "code",
   "execution_count": null,
   "id": "1766e426-a66c-4fe3-b6b4-c38248f3beba",
   "metadata": {},
   "outputs": [],
   "source": [
    "plt.figure(figsize=(20, 6))  # Adjust figure size as needed \n",
    "plt.bar(df['int_col'], df['price'])  # X-axis: int_col, Y-axis: price\n",
    "plt.xlabel('int_col')\n",
    "plt.ylabel('Price')\n",
    "plt.title('Price Distribution by int_col')\n",
    "plt.xticks(rotation=90)  # Optional: Rotate x-axis labels for better readability\n",
    "plt.ylim( ymin=10000, ymax=50000 )\n",
    "# Customize the plot (optional)\n",
    "plt.grid(axis='y')  # Add grid lines on the Y-axis\n",
    "plt.tight_layout()  # Adjust spacing between elements\n",
    "\n",
    "# Display the plot\n",
    "plt.show()"
   ]
  },
  {
   "cell_type": "code",
   "execution_count": null,
   "id": "1a563bc2-6fae-4770-95b0-156f34b72f4f",
   "metadata": {},
   "outputs": [],
   "source": [
    "# Set the plot's height and aspect ratio\n",
    "sns.relplot(x=\"price\", y=\"int_col\", data=df, height=30, aspect=0.5)\n",
    "\n",
    "# Rotate x-axis labels for better readability\n",
    "plt.xticks(rotation=90, ha='right')\n",
    "\n",
    "# Show the plot\n",
    "plt.show()"
   ]
  },
  {
   "cell_type": "code",
   "execution_count": null,
   "id": "f228ab41-5b6c-4586-aa1e-e6357bdf7fda",
   "metadata": {},
   "outputs": [],
   "source": [
    "# Updated mapping of synonymous colors for the 'int_col'\n",
    "color_map = {\n",
    "    'Black': [\n",
    "        'Black', 'Jet Black', 'Ebony', 'Global Black', 'Black Onyx', 'Nero Ade', 'Ebony Black', 'Charcoal Black', 'Nero', 'Blk', 'BLACK'\n",
    "    ],\n",
    "    'White': [\n",
    "        'White', 'Grace White', 'Light Platinum', 'Parchment', 'Linen', 'Oyster', 'Oyster W/Contrast'\n",
    "    ],\n",
    "    'Gray': [\n",
    "        'Gray', 'Medium Stone', 'Diesel Gray', 'Medium Dark Slate', 'Graphite', 'Medium Earth Gray', 'Light Slate', 'Shara Beige', 'Charcoal', \n",
    "        'Dark Gray', 'Dark Ash', 'Medium Ash Gray', 'Dark Galvanized', 'Graystone', 'Slate', 'Rock Gray', 'Mistral Gray'\n",
    "    ],\n",
    "    'Beige': [\n",
    "        'Beige', 'Canberra Beige', 'Sandstone', 'Hotspur Hide', 'Medium Light Camel', 'Mesa', 'Shale', 'Very Light Cashmere', 'Tan/Ebony', \n",
    "        'Cappuccino', 'Canberra Beige/Black', 'Sahara Tan', 'Camel', 'Cocoa', 'Camel Leather', 'Nougat Brown', 'Sand Beige', 'Almond Beige'\n",
    "    ],\n",
    "    'Brown': [\n",
    "        'Brown', 'Deep Chestnut', 'Navy Pier', 'Chestnut', 'Deep Cypress', 'Saddle Brown', 'Amber', 'Walnut', 'Mocha', 'Dark Auburn', 'Brandy'\n",
    "    ],\n",
    "    'Red': [\n",
    "        'Red', 'Rioja Red', 'Hotspur', 'Adrenaline Red', 'Red / Black', 'Deep Garnet', 'Pimento Red', 'Giallo Taurus / Nero Ade'\n",
    "    ],\n",
    "    'Blue': [\n",
    "        'Blue', 'Charles Blue', 'Rhapsody Blue', 'Navy Pier', 'Cobalt Blue', 'Canberra Beige/Black', 'Beluga', 'Ceramic', 'Deep Blue Metallic'\n",
    "    ],\n",
    "    'Silver': [\n",
    "        'Silver', 'Ice', 'Silver Radiance', 'Titan Black', 'Slate'\n",
    "    ],\n",
    "    'Gold': ['Gold'],\n",
    "    'Green': ['Green', 'Deep Cypress'],\n",
    "    'Orange': ['Orange', 'Kyalami Orange'],\n",
    "    'Yellow': ['Yellow'],\n",
    "    'two colors': [],  # Placeholder for two-color combinations\n",
    "    'NaN': ['–']  # Placeholder for missing values\n",
    "}\n",
    "\n",
    "# Function to map colors\n",
    "def map_new_colors(color):\n",
    "    if '/' in color:\n",
    "        return 'two colors'\n",
    "    elif color == '–':\n",
    "        return 'NaN'\n",
    "    for key, values in color_map.items():\n",
    "        if color in values:\n",
    "            return key\n",
    "    return 'Other'\n",
    "\n",
    "# Assuming `df_new` is the DataFrame for the new column\n",
    "df['int_col'] = df['int_col'].apply(map_new_colors)"
   ]
  },
  {
   "cell_type": "code",
   "execution_count": null,
   "id": "fb2dd4c8-2793-417e-85a5-7737eab9d834",
   "metadata": {},
   "outputs": [],
   "source": [
    "df.to_csv('clean_train.csv', index=False)\n",
    "#df.to_csv('clean_test.csv', index=False)"
   ]
  },
  {
   "cell_type": "code",
   "execution_count": null,
   "id": "44fdffdd-dffb-453a-9781-fc98fbcaafd2",
   "metadata": {},
   "outputs": [],
   "source": [
    "df = pd.read_csv('clean_train.csv')\n",
    "df.head()"
   ]
  },
  {
   "cell_type": "code",
   "execution_count": null,
   "id": "f286a4b4-b02b-4f36-84c1-594fa94ef3b4",
   "metadata": {},
   "outputs": [],
   "source": [
    "df.isnull().sum()"
   ]
  },
  {
   "cell_type": "code",
   "execution_count": null,
   "id": "13c065c2-1665-4845-a2e1-60e7fae3d5e8",
   "metadata": {},
   "outputs": [],
   "source": [
    "X = df.copy()\n",
    "y = X.pop(\"price\")\n",
    "\n",
    "# Label encoding for categoricals\n",
    "for colname in X.select_dtypes(\"object\"):\n",
    "    X[colname], _ = X[colname].factorize()\n",
    "\n",
    "# All discrete features should now have integer dtypes (double-check this before using MI!)\n",
    "discrete_features = X.dtypes == int"
   ]
  },
  {
   "cell_type": "code",
   "execution_count": null,
   "id": "1e41cbc3-0a36-4183-889b-bc5adaead60e",
   "metadata": {},
   "outputs": [],
   "source": [
    "def make_mi_scores(X, y, discrete_features):\n",
    "    mi_scores = mutual_info_regression(X, y, discrete_features=discrete_features)\n",
    "    mi_scores = pd.Series(mi_scores, name=\"MI Scores\", index=X.columns)\n",
    "    mi_scores = mi_scores.sort_values(ascending=False)\n",
    "    return mi_scores\n",
    "\n",
    "mi_scores = make_mi_scores(X, y, discrete_features)\n",
    "mi_scores[::3]  # show a few features with their MI scores"
   ]
  },
  {
   "cell_type": "code",
   "execution_count": null,
   "id": "162b54b2-1015-4582-928e-fb181d04543c",
   "metadata": {},
   "outputs": [],
   "source": [
    "def plot_mi_scores(scores):\n",
    "    scores = scores.sort_values(ascending=True)\n",
    "    width = np.arange(len(scores))\n",
    "    ticks = list(scores.index)\n",
    "    plt.barh(width, scores)\n",
    "    plt.yticks(width, ticks)\n",
    "    plt.title(\"Mutual Information Scores\")\n",
    "\n",
    "\n",
    "plt.figure(dpi=100, figsize=(8, 5))\n",
    "plot_mi_scores(mi_scores)"
   ]
  },
  {
   "cell_type": "code",
   "execution_count": null,
   "id": "ecea437c-1622-48d5-8e4e-41b15558206c",
   "metadata": {},
   "outputs": [],
   "source": []
  }
 ],
 "metadata": {
  "kernelspec": {
   "display_name": "Python 3 (ipykernel)",
   "language": "python",
   "name": "python3"
  },
  "language_info": {
   "codemirror_mode": {
    "name": "ipython",
    "version": 3
   },
   "file_extension": ".py",
   "mimetype": "text/x-python",
   "name": "python",
   "nbconvert_exporter": "python",
   "pygments_lexer": "ipython3",
   "version": "3.8.18"
  }
 },
 "nbformat": 4,
 "nbformat_minor": 5
}
